{
 "cells": [
  {
   "cell_type": "code",
   "execution_count": 1,
   "metadata": {},
   "outputs": [],
   "source": [
    "import warnings\n",
    "warnings.filterwarnings('ignore')"
   ]
  },
  {
   "cell_type": "code",
   "execution_count": 2,
   "metadata": {},
   "outputs": [],
   "source": [
    "import numpy as np\n",
    "import pandas as pd\n",
    "from pathlib import Path\n",
    "from collections import Counter"
   ]
  },
  {
   "cell_type": "code",
   "execution_count": 3,
   "metadata": {},
   "outputs": [],
   "source": [
    "from sklearn.metrics import balanced_accuracy_score\n",
    "from sklearn.metrics import confusion_matrix\n",
    "from imblearn.metrics import classification_report_imbalanced\n",
    "from sklearn.metrics import confusion_matrix, accuracy_score, classification_report"
   ]
  },
  {
   "cell_type": "code",
   "execution_count": 4,
   "metadata": {},
   "outputs": [],
   "source": [
    "columns = ['res_county','age_group','sex','race','ethnicity','hosp_yn']\n",
    "\n",
    "target = ['hosp_yn']"
   ]
  },
  {
   "cell_type": "code",
   "execution_count": 5,
   "metadata": {},
   "outputs": [
    {
     "data": {
      "text/html": [
       "<div>\n",
       "<style scoped>\n",
       "    .dataframe tbody tr th:only-of-type {\n",
       "        vertical-align: middle;\n",
       "    }\n",
       "\n",
       "    .dataframe tbody tr th {\n",
       "        vertical-align: top;\n",
       "    }\n",
       "\n",
       "    .dataframe thead th {\n",
       "        text-align: right;\n",
       "    }\n",
       "</style>\n",
       "<table border=\"1\" class=\"dataframe\">\n",
       "  <thead>\n",
       "    <tr style=\"text-align: right;\">\n",
       "      <th></th>\n",
       "      <th>res_county</th>\n",
       "      <th>age_group</th>\n",
       "      <th>sex</th>\n",
       "      <th>race</th>\n",
       "      <th>ethnicity</th>\n",
       "      <th>hosp_yn</th>\n",
       "    </tr>\n",
       "  </thead>\n",
       "  <tbody>\n",
       "    <tr>\n",
       "      <th>0</th>\n",
       "      <td>NORFOLK CITY</td>\n",
       "      <td>18 to 49 years</td>\n",
       "      <td>Female</td>\n",
       "      <td>Multiple/Other</td>\n",
       "      <td>Hispanic/Latino</td>\n",
       "      <td>No</td>\n",
       "    </tr>\n",
       "    <tr>\n",
       "      <th>1</th>\n",
       "      <td>FREDERICK</td>\n",
       "      <td>18 to 49 years</td>\n",
       "      <td>Female</td>\n",
       "      <td>White</td>\n",
       "      <td>Hispanic/Latino</td>\n",
       "      <td>No</td>\n",
       "    </tr>\n",
       "    <tr>\n",
       "      <th>2</th>\n",
       "      <td>FAIRFAX</td>\n",
       "      <td>18 to 49 years</td>\n",
       "      <td>Male</td>\n",
       "      <td>Black</td>\n",
       "      <td>Hispanic/Latino</td>\n",
       "      <td>No</td>\n",
       "    </tr>\n",
       "    <tr>\n",
       "      <th>3</th>\n",
       "      <td>CULPEPER</td>\n",
       "      <td>18 to 49 years</td>\n",
       "      <td>Male</td>\n",
       "      <td>White</td>\n",
       "      <td>Hispanic/Latino</td>\n",
       "      <td>No</td>\n",
       "    </tr>\n",
       "    <tr>\n",
       "      <th>4</th>\n",
       "      <td>ALBEMARLE</td>\n",
       "      <td>18 to 49 years</td>\n",
       "      <td>Male</td>\n",
       "      <td>White</td>\n",
       "      <td>Hispanic/Latino</td>\n",
       "      <td>No</td>\n",
       "    </tr>\n",
       "  </tbody>\n",
       "</table>\n",
       "</div>"
      ],
      "text/plain": [
       "     res_county       age_group     sex            race        ethnicity  \\\n",
       "0  NORFOLK CITY  18 to 49 years  Female  Multiple/Other  Hispanic/Latino   \n",
       "1     FREDERICK  18 to 49 years  Female           White  Hispanic/Latino   \n",
       "2       FAIRFAX  18 to 49 years    Male           Black  Hispanic/Latino   \n",
       "3      CULPEPER  18 to 49 years    Male           White  Hispanic/Latino   \n",
       "4     ALBEMARLE  18 to 49 years    Male           White  Hispanic/Latino   \n",
       "\n",
       "  hosp_yn  \n",
       "0      No  \n",
       "1      No  \n",
       "2      No  \n",
       "3      No  \n",
       "4      No  "
      ]
     },
     "execution_count": 5,
     "metadata": {},
     "output_type": "execute_result"
    }
   ],
   "source": [
    "df = pd.read_csv('virginia_covid.csv')\n",
    "df = df.loc[:, columns].copy()\n",
    "df.head()"
   ]
  },
  {
   "cell_type": "code",
   "execution_count": 6,
   "metadata": {},
   "outputs": [],
   "source": [
    "# Split the data "
   ]
  },
  {
   "cell_type": "code",
   "execution_count": 7,
   "metadata": {},
   "outputs": [],
   "source": [
    "# Create our features\n",
    "X = pd.get_dummies(df.drop(columns=\"hosp_yn\"))\n",
    "\n",
    "# Create our target\n",
    "y = df.loc[:, target].copy()"
   ]
  },
  {
   "cell_type": "code",
   "execution_count": 8,
   "metadata": {},
   "outputs": [
    {
     "data": {
      "text/html": [
       "<div>\n",
       "<style scoped>\n",
       "    .dataframe tbody tr th:only-of-type {\n",
       "        vertical-align: middle;\n",
       "    }\n",
       "\n",
       "    .dataframe tbody tr th {\n",
       "        vertical-align: top;\n",
       "    }\n",
       "\n",
       "    .dataframe thead th {\n",
       "        text-align: right;\n",
       "    }\n",
       "</style>\n",
       "<table border=\"1\" class=\"dataframe\">\n",
       "  <thead>\n",
       "    <tr style=\"text-align: right;\">\n",
       "      <th></th>\n",
       "      <th>res_county_ACCOMACK</th>\n",
       "      <th>res_county_ALBEMARLE</th>\n",
       "      <th>res_county_ALEXANDRIA CITY</th>\n",
       "      <th>res_county_AMHERST</th>\n",
       "      <th>res_county_ARLINGTON</th>\n",
       "      <th>res_county_AUGUSTA</th>\n",
       "      <th>res_county_BEDFORD</th>\n",
       "      <th>res_county_BOTETOURT</th>\n",
       "      <th>res_county_BUCHANAN</th>\n",
       "      <th>res_county_CAMPBELL</th>\n",
       "      <th>...</th>\n",
       "      <th>sex_Female</th>\n",
       "      <th>sex_Male</th>\n",
       "      <th>race_American Indian/Alaska Native</th>\n",
       "      <th>race_Asian</th>\n",
       "      <th>race_Black</th>\n",
       "      <th>race_Multiple/Other</th>\n",
       "      <th>race_Native Hawaiian/Other Pacific Islander</th>\n",
       "      <th>race_White</th>\n",
       "      <th>ethnicity_Hispanic/Latino</th>\n",
       "      <th>ethnicity_Non-Hispanic/Latino</th>\n",
       "    </tr>\n",
       "  </thead>\n",
       "  <tbody>\n",
       "    <tr>\n",
       "      <th>count</th>\n",
       "      <td>262838.000000</td>\n",
       "      <td>262838.000000</td>\n",
       "      <td>262838.000000</td>\n",
       "      <td>262838.000000</td>\n",
       "      <td>262838.000000</td>\n",
       "      <td>262838.000000</td>\n",
       "      <td>262838.000000</td>\n",
       "      <td>262838.000000</td>\n",
       "      <td>262838.000000</td>\n",
       "      <td>262838.000000</td>\n",
       "      <td>...</td>\n",
       "      <td>262838.000000</td>\n",
       "      <td>262838.000000</td>\n",
       "      <td>262838.000000</td>\n",
       "      <td>262838.000000</td>\n",
       "      <td>262838.000000</td>\n",
       "      <td>262838.000000</td>\n",
       "      <td>262838.000000</td>\n",
       "      <td>262838.000000</td>\n",
       "      <td>262838.000000</td>\n",
       "      <td>262838.000000</td>\n",
       "    </tr>\n",
       "    <tr>\n",
       "      <th>mean</th>\n",
       "      <td>0.006624</td>\n",
       "      <td>0.009272</td>\n",
       "      <td>0.023585</td>\n",
       "      <td>0.002656</td>\n",
       "      <td>0.029395</td>\n",
       "      <td>0.007906</td>\n",
       "      <td>0.007921</td>\n",
       "      <td>0.003455</td>\n",
       "      <td>0.002332</td>\n",
       "      <td>0.005323</td>\n",
       "      <td>...</td>\n",
       "      <td>0.538415</td>\n",
       "      <td>0.461585</td>\n",
       "      <td>0.000053</td>\n",
       "      <td>0.057899</td>\n",
       "      <td>0.237138</td>\n",
       "      <td>0.033922</td>\n",
       "      <td>0.000057</td>\n",
       "      <td>0.670930</td>\n",
       "      <td>0.077797</td>\n",
       "      <td>0.922203</td>\n",
       "    </tr>\n",
       "    <tr>\n",
       "      <th>std</th>\n",
       "      <td>0.081117</td>\n",
       "      <td>0.095843</td>\n",
       "      <td>0.151752</td>\n",
       "      <td>0.051464</td>\n",
       "      <td>0.168910</td>\n",
       "      <td>0.088564</td>\n",
       "      <td>0.088648</td>\n",
       "      <td>0.058674</td>\n",
       "      <td>0.048237</td>\n",
       "      <td>0.072762</td>\n",
       "      <td>...</td>\n",
       "      <td>0.498523</td>\n",
       "      <td>0.498523</td>\n",
       "      <td>0.007298</td>\n",
       "      <td>0.233552</td>\n",
       "      <td>0.425329</td>\n",
       "      <td>0.181029</td>\n",
       "      <td>0.007554</td>\n",
       "      <td>0.469876</td>\n",
       "      <td>0.267852</td>\n",
       "      <td>0.267852</td>\n",
       "    </tr>\n",
       "    <tr>\n",
       "      <th>min</th>\n",
       "      <td>0.000000</td>\n",
       "      <td>0.000000</td>\n",
       "      <td>0.000000</td>\n",
       "      <td>0.000000</td>\n",
       "      <td>0.000000</td>\n",
       "      <td>0.000000</td>\n",
       "      <td>0.000000</td>\n",
       "      <td>0.000000</td>\n",
       "      <td>0.000000</td>\n",
       "      <td>0.000000</td>\n",
       "      <td>...</td>\n",
       "      <td>0.000000</td>\n",
       "      <td>0.000000</td>\n",
       "      <td>0.000000</td>\n",
       "      <td>0.000000</td>\n",
       "      <td>0.000000</td>\n",
       "      <td>0.000000</td>\n",
       "      <td>0.000000</td>\n",
       "      <td>0.000000</td>\n",
       "      <td>0.000000</td>\n",
       "      <td>0.000000</td>\n",
       "    </tr>\n",
       "    <tr>\n",
       "      <th>25%</th>\n",
       "      <td>0.000000</td>\n",
       "      <td>0.000000</td>\n",
       "      <td>0.000000</td>\n",
       "      <td>0.000000</td>\n",
       "      <td>0.000000</td>\n",
       "      <td>0.000000</td>\n",
       "      <td>0.000000</td>\n",
       "      <td>0.000000</td>\n",
       "      <td>0.000000</td>\n",
       "      <td>0.000000</td>\n",
       "      <td>...</td>\n",
       "      <td>0.000000</td>\n",
       "      <td>0.000000</td>\n",
       "      <td>0.000000</td>\n",
       "      <td>0.000000</td>\n",
       "      <td>0.000000</td>\n",
       "      <td>0.000000</td>\n",
       "      <td>0.000000</td>\n",
       "      <td>0.000000</td>\n",
       "      <td>0.000000</td>\n",
       "      <td>1.000000</td>\n",
       "    </tr>\n",
       "    <tr>\n",
       "      <th>50%</th>\n",
       "      <td>0.000000</td>\n",
       "      <td>0.000000</td>\n",
       "      <td>0.000000</td>\n",
       "      <td>0.000000</td>\n",
       "      <td>0.000000</td>\n",
       "      <td>0.000000</td>\n",
       "      <td>0.000000</td>\n",
       "      <td>0.000000</td>\n",
       "      <td>0.000000</td>\n",
       "      <td>0.000000</td>\n",
       "      <td>...</td>\n",
       "      <td>1.000000</td>\n",
       "      <td>0.000000</td>\n",
       "      <td>0.000000</td>\n",
       "      <td>0.000000</td>\n",
       "      <td>0.000000</td>\n",
       "      <td>0.000000</td>\n",
       "      <td>0.000000</td>\n",
       "      <td>1.000000</td>\n",
       "      <td>0.000000</td>\n",
       "      <td>1.000000</td>\n",
       "    </tr>\n",
       "    <tr>\n",
       "      <th>75%</th>\n",
       "      <td>0.000000</td>\n",
       "      <td>0.000000</td>\n",
       "      <td>0.000000</td>\n",
       "      <td>0.000000</td>\n",
       "      <td>0.000000</td>\n",
       "      <td>0.000000</td>\n",
       "      <td>0.000000</td>\n",
       "      <td>0.000000</td>\n",
       "      <td>0.000000</td>\n",
       "      <td>0.000000</td>\n",
       "      <td>...</td>\n",
       "      <td>1.000000</td>\n",
       "      <td>1.000000</td>\n",
       "      <td>0.000000</td>\n",
       "      <td>0.000000</td>\n",
       "      <td>0.000000</td>\n",
       "      <td>0.000000</td>\n",
       "      <td>0.000000</td>\n",
       "      <td>1.000000</td>\n",
       "      <td>0.000000</td>\n",
       "      <td>1.000000</td>\n",
       "    </tr>\n",
       "    <tr>\n",
       "      <th>max</th>\n",
       "      <td>1.000000</td>\n",
       "      <td>1.000000</td>\n",
       "      <td>1.000000</td>\n",
       "      <td>1.000000</td>\n",
       "      <td>1.000000</td>\n",
       "      <td>1.000000</td>\n",
       "      <td>1.000000</td>\n",
       "      <td>1.000000</td>\n",
       "      <td>1.000000</td>\n",
       "      <td>1.000000</td>\n",
       "      <td>...</td>\n",
       "      <td>1.000000</td>\n",
       "      <td>1.000000</td>\n",
       "      <td>1.000000</td>\n",
       "      <td>1.000000</td>\n",
       "      <td>1.000000</td>\n",
       "      <td>1.000000</td>\n",
       "      <td>1.000000</td>\n",
       "      <td>1.000000</td>\n",
       "      <td>1.000000</td>\n",
       "      <td>1.000000</td>\n",
       "    </tr>\n",
       "  </tbody>\n",
       "</table>\n",
       "<p>8 rows × 93 columns</p>\n",
       "</div>"
      ],
      "text/plain": [
       "       res_county_ACCOMACK  res_county_ALBEMARLE  res_county_ALEXANDRIA CITY  \\\n",
       "count        262838.000000         262838.000000               262838.000000   \n",
       "mean              0.006624              0.009272                    0.023585   \n",
       "std               0.081117              0.095843                    0.151752   \n",
       "min               0.000000              0.000000                    0.000000   \n",
       "25%               0.000000              0.000000                    0.000000   \n",
       "50%               0.000000              0.000000                    0.000000   \n",
       "75%               0.000000              0.000000                    0.000000   \n",
       "max               1.000000              1.000000                    1.000000   \n",
       "\n",
       "       res_county_AMHERST  res_county_ARLINGTON  res_county_AUGUSTA  \\\n",
       "count       262838.000000         262838.000000       262838.000000   \n",
       "mean             0.002656              0.029395            0.007906   \n",
       "std              0.051464              0.168910            0.088564   \n",
       "min              0.000000              0.000000            0.000000   \n",
       "25%              0.000000              0.000000            0.000000   \n",
       "50%              0.000000              0.000000            0.000000   \n",
       "75%              0.000000              0.000000            0.000000   \n",
       "max              1.000000              1.000000            1.000000   \n",
       "\n",
       "       res_county_BEDFORD  res_county_BOTETOURT  res_county_BUCHANAN  \\\n",
       "count       262838.000000         262838.000000        262838.000000   \n",
       "mean             0.007921              0.003455             0.002332   \n",
       "std              0.088648              0.058674             0.048237   \n",
       "min              0.000000              0.000000             0.000000   \n",
       "25%              0.000000              0.000000             0.000000   \n",
       "50%              0.000000              0.000000             0.000000   \n",
       "75%              0.000000              0.000000             0.000000   \n",
       "max              1.000000              1.000000             1.000000   \n",
       "\n",
       "       res_county_CAMPBELL  ...     sex_Female       sex_Male  \\\n",
       "count        262838.000000  ...  262838.000000  262838.000000   \n",
       "mean              0.005323  ...       0.538415       0.461585   \n",
       "std               0.072762  ...       0.498523       0.498523   \n",
       "min               0.000000  ...       0.000000       0.000000   \n",
       "25%               0.000000  ...       0.000000       0.000000   \n",
       "50%               0.000000  ...       1.000000       0.000000   \n",
       "75%               0.000000  ...       1.000000       1.000000   \n",
       "max               1.000000  ...       1.000000       1.000000   \n",
       "\n",
       "       race_American Indian/Alaska Native     race_Asian     race_Black  \\\n",
       "count                       262838.000000  262838.000000  262838.000000   \n",
       "mean                             0.000053       0.057899       0.237138   \n",
       "std                              0.007298       0.233552       0.425329   \n",
       "min                              0.000000       0.000000       0.000000   \n",
       "25%                              0.000000       0.000000       0.000000   \n",
       "50%                              0.000000       0.000000       0.000000   \n",
       "75%                              0.000000       0.000000       0.000000   \n",
       "max                              1.000000       1.000000       1.000000   \n",
       "\n",
       "       race_Multiple/Other  race_Native Hawaiian/Other Pacific Islander  \\\n",
       "count        262838.000000                                262838.000000   \n",
       "mean              0.033922                                     0.000057   \n",
       "std               0.181029                                     0.007554   \n",
       "min               0.000000                                     0.000000   \n",
       "25%               0.000000                                     0.000000   \n",
       "50%               0.000000                                     0.000000   \n",
       "75%               0.000000                                     0.000000   \n",
       "max               1.000000                                     1.000000   \n",
       "\n",
       "          race_White  ethnicity_Hispanic/Latino  ethnicity_Non-Hispanic/Latino  \n",
       "count  262838.000000              262838.000000                  262838.000000  \n",
       "mean        0.670930                   0.077797                       0.922203  \n",
       "std         0.469876                   0.267852                       0.267852  \n",
       "min         0.000000                   0.000000                       0.000000  \n",
       "25%         0.000000                   0.000000                       1.000000  \n",
       "50%         1.000000                   0.000000                       1.000000  \n",
       "75%         1.000000                   0.000000                       1.000000  \n",
       "max         1.000000                   1.000000                       1.000000  \n",
       "\n",
       "[8 rows x 93 columns]"
      ]
     },
     "execution_count": 8,
     "metadata": {},
     "output_type": "execute_result"
    }
   ],
   "source": [
    "X.describe()"
   ]
  },
  {
   "cell_type": "code",
   "execution_count": 9,
   "metadata": {},
   "outputs": [
    {
     "data": {
      "text/plain": [
       "hosp_yn\n",
       "No         244784\n",
       "Yes         18054\n",
       "dtype: int64"
      ]
     },
     "execution_count": 9,
     "metadata": {},
     "output_type": "execute_result"
    }
   ],
   "source": [
    "y.value_counts()"
   ]
  },
  {
   "cell_type": "code",
   "execution_count": 10,
   "metadata": {},
   "outputs": [],
   "source": [
    "from sklearn.model_selection import train_test_split\n",
    "X_train, X_test, y_train, y_test = train_test_split(X,\n",
    "    y, random_state=1)"
   ]
  },
  {
   "cell_type": "code",
   "execution_count": 11,
   "metadata": {},
   "outputs": [],
   "source": [
    "## Model #1: Balanced Random Forest Classifier"
   ]
  },
  {
   "cell_type": "code",
   "execution_count": 12,
   "metadata": {},
   "outputs": [],
   "source": [
    "# Resample the training data with the BalancedRandomForestClassifier\n",
    "from imblearn.ensemble import BalancedRandomForestClassifier\n",
    "from sklearn.model_selection import train_test_split\n",
    "rf_model = BalancedRandomForestClassifier(n_estimators=100, random_state=1) \n",
    "rf_model = rf_model.fit(X_train, y_train)"
   ]
  },
  {
   "cell_type": "code",
   "execution_count": 13,
   "metadata": {},
   "outputs": [
    {
     "data": {
      "text/plain": [
       "0.7758332065134683"
      ]
     },
     "execution_count": 13,
     "metadata": {},
     "output_type": "execute_result"
    }
   ],
   "source": [
    "# Calculated the balanced accuracy score\n",
    "predictions = rf_model.predict(X_test)\n",
    "accuracy_score(y_test, predictions)"
   ]
  },
  {
   "cell_type": "code",
   "execution_count": 14,
   "metadata": {},
   "outputs": [
    {
     "data": {
      "text/plain": [
       "array([[47734, 13467],\n",
       "       [ 1263,  3246]])"
      ]
     },
     "execution_count": 14,
     "metadata": {},
     "output_type": "execute_result"
    }
   ],
   "source": [
    "# Display the confusion matrix\n",
    "confusion_matrix(y_test, predictions)"
   ]
  },
  {
   "cell_type": "code",
   "execution_count": 15,
   "metadata": {},
   "outputs": [
    {
     "name": "stdout",
     "output_type": "stream",
     "text": [
      "                   pre       rec       spe        f1       geo       iba       sup\n",
      "\n",
      "         No       0.97      0.78      0.72      0.87      0.75      0.56     61201\n",
      "        Yes       0.19      0.72      0.78      0.31      0.75      0.56      4509\n",
      "\n",
      "avg / total       0.92      0.78      0.72      0.83      0.75      0.56     65710\n",
      "\n"
     ]
    }
   ],
   "source": [
    "# Print the imbalanced classification report\n",
    "print(classification_report_imbalanced(y_test, predictions))"
   ]
  },
  {
   "cell_type": "code",
   "execution_count": 16,
   "metadata": {},
   "outputs": [
    {
     "data": {
      "text/plain": [
       "[(0.3599614727102093, 'age_group_65+ years'),\n",
       " (0.24434794819287758, 'age_group_18 to 49 years'),\n",
       " (0.10592835477922975, 'age_group_0 - 17 years'),\n",
       " (0.07299949692491514, 'age_group_50 to 64 years'),\n",
       " (0.020341360032781263, 'race_Black'),\n",
       " (0.014027709557940984, 'race_White'),\n",
       " (0.00913014012924775, 'sex_Male'),\n",
       " (0.008860427417916608, 'sex_Female'),\n",
       " (0.006380573870920595, 'ethnicity_Non-Hispanic/Latino'),\n",
       " (0.006364620268395401, 'ethnicity_Hispanic/Latino'),\n",
       " (0.006007246464040267, 'res_county_FAIRFAX'),\n",
       " (0.005198675128604116, 'res_county_PORTSMOUTH CITY'),\n",
       " (0.0046809234481248845, 'res_county_NORFOLK CITY'),\n",
       " (0.004638060043496732, 'res_county_PRINCE WILLIAM'),\n",
       " (0.00398372989471761, 'res_county_VIRGINIA BEACH CITY'),\n",
       " (0.003950953801250953, 'res_county_LOUDOUN'),\n",
       " (0.003915594084467642, 'res_county_MONTGOMERY'),\n",
       " (0.003649455910478335, 'race_Multiple/Other'),\n",
       " (0.0035710816764633617, 'res_county_CHESTERFIELD'),\n",
       " (0.0035591692507955545, 'res_county_ALEXANDRIA CITY'),\n",
       " (0.0034173266631156297, 'res_county_RICHMOND CITY'),\n",
       " (0.003341946521151594, 'res_county_ARLINGTON'),\n",
       " (0.00315963506248983, 'race_Asian'),\n",
       " (0.0031216618104006237, 'res_county_CHESAPEAKE CITY'),\n",
       " (0.0030886514326201333, 'res_county_HENRICO'),\n",
       " (0.002969813724635043, 'res_county_CHARLOTTESVILLE CITY'),\n",
       " (0.0027358655968083424, 'res_county_ROANOKE CITY'),\n",
       " (0.002646155618551697, 'res_county_HENRY'),\n",
       " (0.0026453659743217784, 'res_county_NEWPORT NEWS CITY'),\n",
       " (0.002566934576099221, 'res_county_PRINCE GEORGE'),\n",
       " (0.0025091185738802574, 'res_county_WASHINGTON'),\n",
       " (0.00228190078434624, 'res_county_HAMPTON CITY'),\n",
       " (0.0021785363342158677, 'res_county_HARRISONBURG CITY'),\n",
       " (0.002172300855323436, 'res_county_STAFFORD'),\n",
       " (0.0021689092638314065, 'res_county_DANVILLE CITY'),\n",
       " (0.0021643781524984707, 'res_county_CULPEPER'),\n",
       " (0.0021499877019577384, 'res_county_ROCKINGHAM'),\n",
       " (0.0020856821898051817, 'res_county_ACCOMACK'),\n",
       " (0.002044437556365694, 'res_county_SUFFOLK CITY'),\n",
       " (0.002001214227440685, 'res_county_FRANKLIN'),\n",
       " (0.001909338478260759, 'res_county_PITTSYLVANIA'),\n",
       " (0.0018984491824380126, 'res_county_ROANOKE'),\n",
       " (0.001745662620278659, 'res_county_SPOTSYLVANIA'),\n",
       " (0.0016952889338897415, 'res_county_ALBEMARLE'),\n",
       " (0.0016099333784975276, 'res_county_LYNCHBURG CITY'),\n",
       " (0.0015718370300701078, 'res_county_ISLE OF WIGHT'),\n",
       " (0.0015438273385947048, 'res_county_TAZEWELL'),\n",
       " (0.001540914300898693, 'res_county_JAMES CITY'),\n",
       " (0.001483684577506931, 'res_county_HANOVER'),\n",
       " (0.0014526734273026232, 'res_county_MANASSAS CITY'),\n",
       " (0.0013967860354631829, 'res_county_PETERSBURG CITY'),\n",
       " (0.0013946387034082935, 'res_county_CAMPBELL'),\n",
       " (0.001380849241511261, 'res_county_FREDERICK'),\n",
       " (0.001342830449133251, 'res_county_CAROLINE'),\n",
       " (0.001249780915903622, 'res_county_LEE'),\n",
       " (0.0012348850122444405, 'res_county_BUCHANAN'),\n",
       " (0.0012298485611367586, 'res_county_SCOTT'),\n",
       " (0.0012266223978560406, 'res_county_YORK'),\n",
       " (0.0011737367050705582, 'res_county_SHENANDOAH'),\n",
       " (0.0011597742888712853, 'res_county_PRINCE EDWARD'),\n",
       " (0.0011433677089259164, 'res_county_DINWIDDIE'),\n",
       " (0.0011323341781467244, 'res_county_CARROLL'),\n",
       " (0.0011291804751764614, 'res_county_HOPEWELL CITY'),\n",
       " (0.0010876453866579979, 'res_county_AMHERST'),\n",
       " (0.0010822426386232838, 'res_county_STAUNTON CITY'),\n",
       " (0.0010783614587061613, 'res_county_GLOUCESTER'),\n",
       " (0.0010478626982353334, 'res_county_FAUQUIER'),\n",
       " (0.001023645404364144, 'res_county_WISE'),\n",
       " (0.001015421997673108, 'res_county_MECKLENBURG'),\n",
       " (0.001006610499276657, 'res_county_WINCHESTER CITY'),\n",
       " (0.0009935816772033142, 'res_county_SMYTH'),\n",
       " (0.0009818230106168517, 'res_county_LOUISA'),\n",
       " (0.0009568270363611736, 'res_county_ORANGE'),\n",
       " (0.0009227513848209984, 'res_county_BOTETOURT'),\n",
       " (0.0009075919899861983, 'res_county_FLUVANNA'),\n",
       " (0.0009064265100323742, 'res_county_PAGE'),\n",
       " (0.0008961760343667863, 'res_county_BEDFORD'),\n",
       " (0.0008857073076684071, 'res_county_RUSSELL'),\n",
       " (0.0008462487827847615, 'res_county_AUGUSTA'),\n",
       " (0.0008422743594695809, 'res_county_WAYNESBORO CITY'),\n",
       " (0.0008328327397875125, 'res_county_FREDERICKSBURG CITY'),\n",
       " (0.0007956273558496787, 'res_county_WARREN'),\n",
       " (0.000763598720878486, 'res_county_PULASKI'),\n",
       " (0.0007631607064347623, 'res_county_GOOCHLAND'),\n",
       " (0.0007603076838807798, 'res_county_HALIFAX'),\n",
       " (0.0007355141360630944, 'res_county_POWHATAN'),\n",
       " (0.0007116375245194564, 'res_county_WYTHE'),\n",
       " (0.0006790355696472531, 'res_county_KING GEORGE'),\n",
       " (0.000673760600919065, 'res_county_SALEM CITY'),\n",
       " (0.0006222550013158816, 'res_county_ROCKBRIDGE'),\n",
       " (0.0005380881349074181, 'res_county_NEW KENT'),\n",
       " (3.336852173126299e-05, 'race_Native Hawaiian/Other Pacific Islander'),\n",
       " (1.6554979899836824e-05, 'race_American Indian/Alaska Native')]"
      ]
     },
     "execution_count": 16,
     "metadata": {},
     "output_type": "execute_result"
    }
   ],
   "source": [
    "# List the features sorted in descending order by feature importance\n",
    "importances = rf_model.feature_importances_\n",
    "importances\n",
    "sorted(zip(rf_model.feature_importances_, X.columns), reverse=True)"
   ]
  },
  {
   "cell_type": "code",
   "execution_count": 17,
   "metadata": {},
   "outputs": [],
   "source": [
    "# Model #2: Easy Ensemble Adaboost Classifer "
   ]
  },
  {
   "cell_type": "code",
   "execution_count": 18,
   "metadata": {},
   "outputs": [],
   "source": [
    "# Train the EasyEnsembleClassifier\n",
    "from imblearn.ensemble import EasyEnsembleClassifier\n",
    "easy = EasyEnsembleClassifier(n_estimators = 100,random_state=1)\n",
    "easy = easy.fit(X_train, y_train)"
   ]
  },
  {
   "cell_type": "code",
   "execution_count": 19,
   "metadata": {},
   "outputs": [
    {
     "data": {
      "text/plain": [
       "0.7518190146506658"
      ]
     },
     "execution_count": 19,
     "metadata": {},
     "output_type": "execute_result"
    }
   ],
   "source": [
    "# Calculated the balanced accuracy score\n",
    "y_pred = easy.predict(X_test)\n",
    "balanced_accuracy_score(y_test, y_pred)"
   ]
  },
  {
   "cell_type": "code",
   "execution_count": 20,
   "metadata": {},
   "outputs": [
    {
     "data": {
      "text/plain": [
       "array([[47233, 13968],\n",
       "       [ 1209,  3300]])"
      ]
     },
     "execution_count": 20,
     "metadata": {},
     "output_type": "execute_result"
    }
   ],
   "source": [
    "# Display the confusion matrix\n",
    "confusion_matrix(y_test, y_pred)"
   ]
  },
  {
   "cell_type": "code",
   "execution_count": 21,
   "metadata": {},
   "outputs": [
    {
     "name": "stdout",
     "output_type": "stream",
     "text": [
      "                   pre       rec       spe        f1       geo       iba       sup\n",
      "\n",
      "         No       0.98      0.77      0.73      0.86      0.75      0.57     61201\n",
      "        Yes       0.19      0.73      0.77      0.30      0.75      0.56      4509\n",
      "\n",
      "avg / total       0.92      0.77      0.73      0.82      0.75      0.57     65710\n",
      "\n"
     ]
    }
   ],
   "source": [
    "# Print the imbalanced classification report\n",
    "print(classification_report_imbalanced(y_test, y_pred))"
   ]
  },
  {
   "cell_type": "code",
   "execution_count": null,
   "metadata": {},
   "outputs": [],
   "source": [
    "#Model #3: Logistic Regression"
   ]
  },
  {
   "cell_type": "code",
   "execution_count": 22,
   "metadata": {},
   "outputs": [],
   "source": [
    "#Train the model and create predictions\n",
    "from sklearn.linear_model import LogisticRegression\n",
    "classifier = LogisticRegression(solver='lbfgs',\n",
    "   max_iter=200,\n",
    "   random_state=1)\n",
    "classifier.fit(X_train, y_train)\n",
    "y_pred = classifier.predict(X_test)"
   ]
  },
  {
   "cell_type": "code",
   "execution_count": 23,
   "metadata": {},
   "outputs": [
    {
     "data": {
      "text/plain": [
       "0.7518190146506658"
      ]
     },
     "execution_count": 23,
     "metadata": {},
     "output_type": "execute_result"
    }
   ],
   "source": [
    "# Calculated the accuracy score\n",
    "y_pred = easy.predict(X_test)\n",
    "print(accuracy_score(y_test, y_pred))"
   ]
  },
  {
   "cell_type": "code",
   "execution_count": null,
   "metadata": {},
   "outputs": [],
   "source": [
    "#Model #4: SVM "
   ]
  },
  {
   "cell_type": "code",
   "execution_count": 24,
   "metadata": {},
   "outputs": [],
   "source": [
    "#train the model and create predictions\n",
    "from sklearn.svm import SVC\n",
    "model = SVC(kernel='linear')\n",
    "model.fit(X_train, y_train)\n",
    "y_pred = model.predict(X_test)"
   ]
  },
  {
   "cell_type": "code",
   "execution_count": 25,
   "metadata": {},
   "outputs": [
    {
     "data": {
      "text/plain": [
       "0.9313803074113529"
      ]
     },
     "execution_count": 25,
     "metadata": {},
     "output_type": "execute_result"
    }
   ],
   "source": [
    "#calculate accuracy score\n",
    "accuracy_score(y_test, y_pred)"
   ]
  },
  {
   "cell_type": "code",
   "execution_count": 26,
   "metadata": {},
   "outputs": [
    {
     "data": {
      "text/plain": [
       "array([[61201,     0],\n",
       "       [ 4509,     0]])"
      ]
     },
     "execution_count": 26,
     "metadata": {},
     "output_type": "execute_result"
    }
   ],
   "source": [
    "#show confusion matrix\n",
    "confusion_matrix(y_test, y_pred)"
   ]
  },
  {
   "cell_type": "code",
   "execution_count": 27,
   "metadata": {},
   "outputs": [
    {
     "name": "stdout",
     "output_type": "stream",
     "text": [
      "              precision    recall  f1-score   support\n",
      "\n",
      "          No       0.93      1.00      0.96     61201\n",
      "         Yes       0.00      0.00      0.00      4509\n",
      "\n",
      "    accuracy                           0.93     65710\n",
      "   macro avg       0.47      0.50      0.48     65710\n",
      "weighted avg       0.87      0.93      0.90     65710\n",
      "\n"
     ]
    }
   ],
   "source": [
    "#print classification report\n",
    "print(classification_report(y_test, y_pred))"
   ]
  },
  {
   "cell_type": "code",
   "execution_count": null,
   "metadata": {},
   "outputs": [],
   "source": [
    "#Model #5: Decision Trees"
   ]
  },
  {
   "cell_type": "code",
   "execution_count": 29,
   "metadata": {},
   "outputs": [],
   "source": [
    "from sklearn import tree\n",
    "# Creating the decision tree classifier instance.\n",
    "model = tree.DecisionTreeClassifier()\n",
    "# Fitting the model.\n",
    "model = model.fit(X_train, y_train)\n",
    "# Making predictions using the testing data.\n",
    "predictions = model.predict(X_test)"
   ]
  },
  {
   "cell_type": "code",
   "execution_count": 30,
   "metadata": {},
   "outputs": [
    {
     "data": {
      "text/plain": [
       "array([[61185,    16],\n",
       "       [ 4490,    19]])"
      ]
     },
     "execution_count": 30,
     "metadata": {},
     "output_type": "execute_result"
    }
   ],
   "source": [
    "#confusion matrix\n",
    "confusion_matrix(y_test, predictions)"
   ]
  },
  {
   "cell_type": "code",
   "execution_count": 31,
   "metadata": {},
   "outputs": [
    {
     "data": {
      "text/plain": [
       "0.9314259625627759"
      ]
     },
     "execution_count": 31,
     "metadata": {},
     "output_type": "execute_result"
    }
   ],
   "source": [
    "#accuracy score\n",
    "accuracy_score(y_test, predictions)"
   ]
  },
  {
   "cell_type": "code",
   "execution_count": 32,
   "metadata": {},
   "outputs": [
    {
     "name": "stdout",
     "output_type": "stream",
     "text": [
      "              precision    recall  f1-score   support\n",
      "\n",
      "          No       0.93      1.00      0.96     61201\n",
      "         Yes       0.54      0.00      0.01      4509\n",
      "\n",
      "    accuracy                           0.93     65710\n",
      "   macro avg       0.74      0.50      0.49     65710\n",
      "weighted avg       0.90      0.93      0.90     65710\n",
      "\n"
     ]
    }
   ],
   "source": [
    "#classification report\n",
    "print(classification_report(y_test, predictions))"
   ]
  },
  {
   "cell_type": "code",
   "execution_count": null,
   "metadata": {},
   "outputs": [],
   "source": [
    "# Model #6: Gradient Boosting Classifier"
   ]
  },
  {
   "cell_type": "code",
   "execution_count": 38,
   "metadata": {},
   "outputs": [
    {
     "name": "stdout",
     "output_type": "stream",
     "text": [
      "Learning rate:  0.05\n",
      "Accuracy score (training): 0.931\n",
      "Accuracy score (validation): 0.931\n",
      "Learning rate:  0.1\n",
      "Accuracy score (training): 0.931\n",
      "Accuracy score (validation): 0.931\n",
      "Learning rate:  0.25\n",
      "Accuracy score (training): 0.931\n",
      "Accuracy score (validation): 0.931\n",
      "Learning rate:  0.5\n",
      "Accuracy score (training): 0.931\n",
      "Accuracy score (validation): 0.931\n",
      "Learning rate:  0.75\n",
      "Accuracy score (training): 0.931\n",
      "Accuracy score (validation): 0.931\n",
      "Learning rate:  1\n",
      "Accuracy score (training): 0.931\n",
      "Accuracy score (validation): 0.931\n"
     ]
    }
   ],
   "source": [
    "from sklearn.ensemble import GradientBoostingClassifier\n",
    "learning_rates = [0.05, 0.1, 0.25, 0.5, 0.75, 1]\n",
    "for learning_rate in learning_rates:\n",
    "   classifier = GradientBoostingClassifier(n_estimators=20,\n",
    "   learning_rate=learning_rate,\n",
    "   max_features=5,\n",
    "   max_depth=3,\n",
    "   random_state=0)\n",
    "   classifier.fit(X_train, y_train)\n",
    "   print(\"Learning rate: \", learning_rate)\n",
    "   print(\"Accuracy score (training): {0:.3f}\".format(\n",
    "       classifier.score(\n",
    "           X_train,\n",
    "           y_train)))\n",
    "   print(\"Accuracy score (validation): {0:.3f}\".format(\n",
    "       classifier.score(\n",
    "           X_test,\n",
    "           y_test)))"
   ]
  },
  {
   "cell_type": "code",
   "execution_count": 40,
   "metadata": {},
   "outputs": [],
   "source": [
    "#create model, train it, and create predictions\n",
    "classifier = GradientBoostingClassifier(n_estimators=20,\n",
    "   learning_rate=0.5, max_features=5, max_depth=3, random_state=0)\n",
    "\n",
    "classifier.fit(X_train, y_train)\n",
    "predictions = classifier.predict(X_test)"
   ]
  },
  {
   "cell_type": "code",
   "execution_count": 41,
   "metadata": {},
   "outputs": [
    {
     "data": {
      "text/plain": [
       "array([[61112,    89],\n",
       "       [ 4463,    46]])"
      ]
     },
     "execution_count": 41,
     "metadata": {},
     "output_type": "execute_result"
    }
   ],
   "source": [
    "#confusion matrix\n",
    "confusion_matrix(y_test, predictions)"
   ]
  },
  {
   "cell_type": "code",
   "execution_count": 42,
   "metadata": {},
   "outputs": [
    {
     "data": {
      "text/plain": [
       "0.9307259169076244"
      ]
     },
     "execution_count": 42,
     "metadata": {},
     "output_type": "execute_result"
    }
   ],
   "source": [
    "#accuracy score\n",
    "accuracy_score(y_test, predictions)"
   ]
  },
  {
   "cell_type": "code",
   "execution_count": 43,
   "metadata": {},
   "outputs": [
    {
     "name": "stdout",
     "output_type": "stream",
     "text": [
      "              precision    recall  f1-score   support\n",
      "\n",
      "          No       0.93      1.00      0.96     61201\n",
      "         Yes       0.34      0.01      0.02      4509\n",
      "\n",
      "    accuracy                           0.93     65710\n",
      "   macro avg       0.64      0.50      0.49     65710\n",
      "weighted avg       0.89      0.93      0.90     65710\n",
      "\n"
     ]
    }
   ],
   "source": [
    "#classification report\n",
    "print(classification_report(y_test, predictions))"
   ]
  },
  {
   "cell_type": "code",
   "execution_count": null,
   "metadata": {},
   "outputs": [],
   "source": [
    "#Model #7: Logistic Regression with naive random oversampling"
   ]
  },
  {
   "cell_type": "code",
   "execution_count": 45,
   "metadata": {},
   "outputs": [
    {
     "data": {
      "text/plain": [
       "Counter({'hosp_yn': 1})"
      ]
     },
     "execution_count": 45,
     "metadata": {},
     "output_type": "execute_result"
    }
   ],
   "source": [
    "from collections import Counter\n",
    "from imblearn.over_sampling import RandomOverSampler\n",
    "ros = RandomOverSampler(random_state=1)\n",
    "X_resampled, y_resampled = ros.fit_resample(X_train, y_train)\n",
    "\n",
    "Counter(y_resampled)"
   ]
  },
  {
   "cell_type": "code",
   "execution_count": 46,
   "metadata": {},
   "outputs": [
    {
     "data": {
      "text/plain": [
       "LogisticRegression(random_state=1)"
      ]
     },
     "execution_count": 46,
     "metadata": {},
     "output_type": "execute_result"
    }
   ],
   "source": [
    "# Train the Logistic Regression model using the resampled data\n",
    "from sklearn.linear_model import LogisticRegression\n",
    "\n",
    "model = LogisticRegression(solver='lbfgs', random_state=1)\n",
    "model.fit(X_resampled, y_resampled)"
   ]
  },
  {
   "cell_type": "code",
   "execution_count": 47,
   "metadata": {},
   "outputs": [
    {
     "data": {
      "text/plain": [
       "array([[47438, 13763],\n",
       "       [ 1224,  3285]])"
      ]
     },
     "execution_count": 47,
     "metadata": {},
     "output_type": "execute_result"
    }
   ],
   "source": [
    "# Display the confusion matrix\n",
    "from sklearn.metrics import confusion_matrix\n",
    "y_pred = model.predict(X_test)\n",
    "confusion_matrix(y_test, y_pred)"
   ]
  },
  {
   "cell_type": "code",
   "execution_count": 48,
   "metadata": {},
   "outputs": [
    {
     "data": {
      "text/plain": [
       "0.7518304838991157"
      ]
     },
     "execution_count": 48,
     "metadata": {},
     "output_type": "execute_result"
    }
   ],
   "source": [
    "# Calculated the balanced accuracy score\n",
    "from sklearn.metrics import balanced_accuracy_score\n",
    "balanced_accuracy_score(y_test, y_pred)"
   ]
  },
  {
   "cell_type": "code",
   "execution_count": 49,
   "metadata": {},
   "outputs": [
    {
     "name": "stdout",
     "output_type": "stream",
     "text": [
      "                   pre       rec       spe        f1       geo       iba       sup\n",
      "\n",
      "         No       0.97      0.78      0.73      0.86      0.75      0.57     61201\n",
      "        Yes       0.19      0.73      0.78      0.30      0.75      0.56      4509\n",
      "\n",
      "avg / total       0.92      0.77      0.73      0.83      0.75      0.57     65710\n",
      "\n"
     ]
    }
   ],
   "source": [
    "# Print the imbalanced classification report\n",
    "from imblearn.metrics import classification_report_imbalanced\n",
    "print(classification_report_imbalanced(y_test, y_pred))"
   ]
  },
  {
   "cell_type": "code",
   "execution_count": null,
   "metadata": {},
   "outputs": [],
   "source": [
    "#Model #8: Logistic Regression with SMOTE Oversampling"
   ]
  },
  {
   "cell_type": "code",
   "execution_count": 50,
   "metadata": {},
   "outputs": [],
   "source": [
    "# Resample the training data with SMOTE\n",
    "from imblearn.over_sampling import SMOTE\n",
    "X_resampled, y_resampled = SMOTE(random_state=1,\n",
    "sampling_strategy='auto').fit_resample(\n",
    "   X_train, y_train)"
   ]
  },
  {
   "cell_type": "code",
   "execution_count": 51,
   "metadata": {},
   "outputs": [
    {
     "data": {
      "text/plain": [
       "LogisticRegression(random_state=1)"
      ]
     },
     "execution_count": 51,
     "metadata": {},
     "output_type": "execute_result"
    }
   ],
   "source": [
    "# Train the Logistic Regression model using the resampled data\n",
    "model = LogisticRegression(solver='lbfgs', random_state=1)\n",
    "model.fit(X_resampled, y_resampled)"
   ]
  },
  {
   "cell_type": "code",
   "execution_count": 52,
   "metadata": {},
   "outputs": [
    {
     "data": {
      "text/plain": [
       "0.7527250146145947"
      ]
     },
     "execution_count": 52,
     "metadata": {},
     "output_type": "execute_result"
    }
   ],
   "source": [
    "# Calculated the balanced accuracy score\n",
    "y_pred = model.predict(X_test)\n",
    "balanced_accuracy_score(y_test, y_pred)"
   ]
  },
  {
   "cell_type": "code",
   "execution_count": 53,
   "metadata": {},
   "outputs": [
    {
     "data": {
      "text/plain": [
       "array([[48199, 13002],\n",
       "       [ 1272,  3237]])"
      ]
     },
     "execution_count": 53,
     "metadata": {},
     "output_type": "execute_result"
    }
   ],
   "source": [
    "# Display the confusion matrix\n",
    "confusion_matrix(y_test, y_pred)"
   ]
  },
  {
   "cell_type": "code",
   "execution_count": 54,
   "metadata": {},
   "outputs": [
    {
     "name": "stdout",
     "output_type": "stream",
     "text": [
      "                   pre       rec       spe        f1       geo       iba       sup\n",
      "\n",
      "         No       0.97      0.79      0.72      0.87      0.75      0.57     61201\n",
      "        Yes       0.20      0.72      0.79      0.31      0.75      0.56      4509\n",
      "\n",
      "avg / total       0.92      0.78      0.72      0.83      0.75      0.57     65710\n",
      "\n"
     ]
    }
   ],
   "source": [
    "# Print the imbalanced classification report\n",
    "print(classification_report_imbalanced(y_test, y_pred))"
   ]
  }
 ],
 "metadata": {
  "kernelspec": {
   "display_name": "mlenv",
   "language": "python",
   "name": "mlenv"
  },
  "language_info": {
   "codemirror_mode": {
    "name": "ipython",
    "version": 3
   },
   "file_extension": ".py",
   "mimetype": "text/x-python",
   "name": "python",
   "nbconvert_exporter": "python",
   "pygments_lexer": "ipython3",
   "version": "3.7.10"
  }
 },
 "nbformat": 4,
 "nbformat_minor": 4
}
