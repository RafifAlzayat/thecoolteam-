{
  "nbformat": 4,
  "nbformat_minor": 0,
  "metadata": {
    "colab": {
      "name": "Capstone_project.ipynb",
      "provenance": [],
      "collapsed_sections": [],
      "include_colab_link": true
    },
    "kernelspec": {
      "name": "python3",
      "display_name": "Python 3"
    },
    "language_info": {
      "name": "python"
    }
  },
  "cells": [
    {
      "cell_type": "markdown",
      "metadata": {
        "id": "view-in-github",
        "colab_type": "text"
      },
      "source": [
        "<a href=\"https://colab.research.google.com/github/RafifAlzayat/thecoolteam-/blob/ava-branch/Capstone_project.ipynb\" target=\"_parent\"><img src=\"https://colab.research.google.com/assets/colab-badge.svg\" alt=\"Open In Colab\"/></a>"
      ]
    },
    {
      "cell_type": "code",
      "metadata": {
        "colab": {
          "base_uri": "https://localhost:8080/"
        },
        "id": "y6NAgKJFtCYv",
        "outputId": "fe30aa50-a9f5-4a31-a3e2-b98a573e8c17"
      },
      "source": [
        "import os\n",
        "# Find the latest version of spark 3.0  from http://www.apache.org/dist/spark/ and enter as the spark version\n",
        "# For example:\n",
        "# spark_version = 'spark-3.0.3'\n",
        "spark_version = 'spark-3.0.3'\n",
        "os.environ['SPARK_VERSION']=spark_version\n",
        "\n",
        "# Install Spark and Java\n",
        "!apt-get update\n",
        "!apt-get install openjdk-11-jdk-headless -qq > /dev/null\n",
        "!wget -q http://www.apache.org/dist/spark/$SPARK_VERSION/$SPARK_VERSION-bin-hadoop2.7.tgz\n",
        "!tar xf $SPARK_VERSION-bin-hadoop2.7.tgz\n",
        "!pip install -q findspark\n",
        "\n",
        "# Set Environment Variables\n",
        "import os\n",
        "os.environ[\"JAVA_HOME\"] = \"/usr/lib/jvm/java-11-openjdk-amd64\"\n",
        "os.environ[\"SPARK_HOME\"] = f\"/content/{spark_version}-bin-hadoop2.7\"\n",
        "\n",
        "# Start a SparkSession\n",
        "import findspark\n",
        "findspark.init()"
      ],
      "execution_count": 1,
      "outputs": [
        {
          "output_type": "stream",
          "name": "stdout",
          "text": [
            "\r0% [Working]\r            \rGet:1 http://security.ubuntu.com/ubuntu bionic-security InRelease [88.7 kB]\n",
            "\r0% [Connecting to archive.ubuntu.com (91.189.88.142)] [1 InRelease 2,587 B/88.7\r                                                                               \rGet:2 https://cloud.r-project.org/bin/linux/ubuntu bionic-cran40/ InRelease [3,626 B]\n",
            "\r0% [Connecting to archive.ubuntu.com (91.189.88.142)] [1 InRelease 25.8 kB/88.7\r0% [Connecting to archive.ubuntu.com (91.189.88.142)] [1 InRelease 43.1 kB/88.7\r0% [2 InRelease gpgv 3,626 B] [Waiting for headers] [1 InRelease 43.1 kB/88.7 k\r                                                                               \rIgn:3 https://developer.download.nvidia.com/compute/cuda/repos/ubuntu1804/x86_64  InRelease\n",
            "\r0% [2 InRelease gpgv 3,626 B] [Waiting for headers] [1 InRelease 57.6 kB/88.7 k\r0% [2 InRelease gpgv 3,626 B] [Waiting for headers] [Connecting to ppa.launchpa\r                                                                               \rIgn:4 https://developer.download.nvidia.com/compute/machine-learning/repos/ubuntu1804/x86_64  InRelease\n",
            "\r0% [2 InRelease gpgv 3,626 B] [Waiting for headers] [Connecting to ppa.launchpa\r                                                                               \rGet:5 https://developer.download.nvidia.com/compute/cuda/repos/ubuntu1804/x86_64  Release [696 B]\n",
            "\r                                                                               \r0% [2 InRelease gpgv 3,626 B] [Waiting for headers] [Waiting for headers]\r                                                                         \rHit:6 https://developer.download.nvidia.com/compute/machine-learning/repos/ubuntu1804/x86_64  Release\n",
            "Hit:7 http://archive.ubuntu.com/ubuntu bionic InRelease\n",
            "Get:8 https://developer.download.nvidia.com/compute/cuda/repos/ubuntu1804/x86_64  Release.gpg [836 B]\n",
            "Hit:9 http://ppa.launchpad.net/c2d4u.team/c2d4u4.0+/ubuntu bionic InRelease\n",
            "Get:10 http://archive.ubuntu.com/ubuntu bionic-updates InRelease [88.7 kB]\n",
            "Hit:11 http://ppa.launchpad.net/cran/libgit2/ubuntu bionic InRelease\n",
            "Hit:12 http://ppa.launchpad.net/deadsnakes/ppa/ubuntu bionic InRelease\n",
            "Get:13 http://archive.ubuntu.com/ubuntu bionic-backports InRelease [74.6 kB]\n",
            "Hit:14 http://ppa.launchpad.net/graphics-drivers/ppa/ubuntu bionic InRelease\n",
            "Get:16 https://developer.download.nvidia.com/compute/cuda/repos/ubuntu1804/x86_64  Packages [700 kB]\n",
            "Fetched 957 kB in 4s (247 kB/s)\n",
            "Reading package lists... Done\n"
          ]
        }
      ]
    },
    {
      "cell_type": "code",
      "metadata": {
        "id": "WLfWBfBQtOPk"
      },
      "source": [
        "from pyspark.sql import SparkSession\n",
        "spark = SparkSession.builder.appName(\"Yelp_NLP\").getOrCreate()"
      ],
      "execution_count": 2,
      "outputs": []
    },
    {
      "cell_type": "code",
      "metadata": {
        "id": "MWasRkW5tOUD"
      },
      "source": [
        "import json\n",
        "import pandas as pd\n",
        "import numpy as np\n",
        "import requests\n",
        "from pyspark.sql import functions as F\n",
        "from urllib.request import Request, urlopen\n",
        "from pyspark import SparkContext"
      ],
      "execution_count": 3,
      "outputs": []
    },
    {
      "cell_type": "code",
      "metadata": {
        "id": "Th-oYjr97HDk"
      },
      "source": [
        "#https://data.cdc.gov/api/views/n8mc-b4w4/rows.json?accessType=DOWNLOAD\n",
        "#https://rafifcoviddata.s3.amazonaws.com/COVID-19_Case_Surveillance_Public_Use_Data_with_Geography.csv"
      ],
      "execution_count": null,
      "outputs": []
    },
    {
      "cell_type": "code",
      "metadata": {
        "id": "kAfcOJGo7HF5"
      },
      "source": [
        "from pyspark import SparkFiles\n",
        "url =\"https://rafifcoviddata.s3.amazonaws.com/COVID-19_Case_Surveillance_Public_Use_Data_with_Geography.csv\"\n",
        "spark.sparkContext.addFile(url)\n",
        "covid_data_df = spark.read.csv(SparkFiles.get(\"COVID-19_Case_Surveillance_Public_Use_Data_with_Geography.csv\"), sep=\",\", header=True, inferSchema=True)"
      ],
      "execution_count": 4,
      "outputs": []
    },
    {
      "cell_type": "code",
      "metadata": {
        "colab": {
          "base_uri": "https://localhost:8080/"
        },
        "id": "7jhEwNaN7HIb",
        "outputId": "d6548d87-0a6a-4e26-8cbd-a10d45a4b848"
      },
      "source": [
        "covid_data_df.show()"
      ],
      "execution_count": 5,
      "outputs": [
        {
          "output_type": "stream",
          "name": "stdout",
          "text": [
            "+----------+---------+---------------+----------+----------------+--------------+------+-------+---------+-------------------------------+-------------------+-------------------+-----------+--------------------+--------------+-------+-------+--------+------------------------+\n",
            "|case_month|res_state|state_fips_code|res_county|county_fips_code|     age_group|   sex|   race|ethnicity|case_positive_specimen_interval|case_onset_interval|            process|exposure_yn|      current_status|symptom_status|hosp_yn| icu_yn|death_yn|underlying_conditions_yn|\n",
            "+----------+---------+---------------+----------+----------------+--------------+------+-------+---------+-------------------------------+-------------------+-------------------+-----------+--------------------+--------------+-------+-------+--------+------------------------+\n",
            "|   2020-06|       OH|             39|   BELMONT|           39013|            NA|    NA|     NA|       NA|                              0|               null|            Missing|    Missing|Laboratory-confir...|       Missing|Missing|Missing|      NA|                     Yes|\n",
            "|   2020-09|       OH|             39|    GALLIA|           39053|  0 - 17 years|    NA|     NA|       NA|                           null|               null|            Missing|    Missing|Laboratory-confir...|       Missing|Missing|Missing|      No|                    null|\n",
            "|   2020-11|       PA|             42|       ELK|           42047|18 to 49 years|    NA|     NA|       NA|                              0|               null|            Missing|    Missing|Laboratory-confir...|       Unknown|     No|Unknown| Unknown|                    null|\n",
            "|   2021-02|       AL|             01|TALLAPOOSA|           01123|       Missing|Female|Missing|  Missing|                           null|               null|            Missing|    Missing|       Probable Case|       Missing|Missing|Missing| Missing|                    null|\n",
            "|   2020-12|       IA|             19|   CARROLL|           19027|  0 - 17 years|Female|     NA|       NA|                           null|                  0|            Missing|    Missing|       Probable Case|   Symptomatic|Missing|Missing| Missing|                    null|\n",
            "|   2020-12|       CO|             08|    ELBERT|           08039|  0 - 17 years|Female|Missing|       NA|                           null|               null|            Missing|    Missing|Laboratory-confir...|       Missing|Missing|Missing| Missing|                    null|\n",
            "|   2020-07|       SC|             45|    JASPER|           45053|  0 - 17 years|Female|     NA|       NA|                           null|                  0|            Missing|    Missing|Laboratory-confir...|   Symptomatic|     No|Missing|      No|                    null|\n",
            "|   2021-05|       OH|             39| JEFFERSON|           39081|  0 - 17 years|Female|     NA|       NA|                              1|                  0|Clinical evaluation|        Yes|       Probable Case|   Symptomatic|     No|     No|      No|                      No|\n",
            "|   2020-11|       MI|             26|   LENAWEE|           26091|  0 - 17 years|Female|     NA|       NA|                           null|               null|            Missing|    Missing|Laboratory-confir...|       Missing|     No|Missing|      NA|                    null|\n",
            "|   2020-10|       IL|             17| ST. CLAIR|           17163|  0 - 17 years|Female|Missing|  Missing|                           null|                  0|            Missing|    Missing|       Probable Case|       Missing|Missing|Missing| Missing|                    null|\n",
            "|   2021-04|       IL|             17|STEPHENSON|           17177|  0 - 17 years|Female|     NA|       NA|                           null|                  0|            Missing|    Missing|       Probable Case|       Missing|     No|Missing| Missing|                    null|\n",
            "|   2020-11|       OH|             39|WASHINGTON|           39167|  0 - 17 years|Female|     NA|       NA|                           null|               null|            Missing|    Missing|Laboratory-confir...|       Missing|Missing|Missing|      NA|                    null|\n",
            "|   2020-09|       WA|             53|    ASOTIN|           53003|18 to 49 years|Female|     NA|       NA|                              0|                  0|            Missing|    Missing|Laboratory-confir...|   Symptomatic|     No|Missing| Missing|                    null|\n",
            "|   2020-10|       OH|             39|  AUGLAIZE|           39011|18 to 49 years|Female|     NA|       NA|                           null|                  0|Clinical evaluation|    Unknown|       Probable Case|   Symptomatic|     No|Missing| Unknown|                    null|\n",
            "|   2020-11|       OH|             39|  DEFIANCE|           39039|18 to 49 years|Female|     NA|       NA|                              0|                  0|Clinical evaluation|    Unknown|Laboratory-confir...|   Symptomatic|     No|     No|      No|                     Yes|\n",
            "|   2020-11|       MI|             26|     EMMET|           26047|18 to 49 years|Female|     NA|       NA|                           null|                  0|            Missing|    Missing|Laboratory-confir...|   Symptomatic|     No|Missing|      NA|                    null|\n",
            "|   2020-11|       GA|             13|  HARALSON|           13143|18 to 49 years|Female|Unknown|  Missing|                           null|                  0|            Missing|    Missing|Laboratory-confir...|   Symptomatic|Missing|Missing| Missing|                    null|\n",
            "|   2021-02|       OH|             39|      PIKE|           39131|18 to 49 years|Female|     NA|       NA|                           null|                  0|Clinical evaluation|        Yes|Laboratory-confir...|   Symptomatic|     No|     No|      NA|                     Yes|\n",
            "|   2020-08|       IN|             18|   SPENCER|           18147|18 to 49 years|Female|     NA|       NA|                              0|               null|            Missing|    Missing|Laboratory-confir...|       Missing|Missing|Missing|      No|                    null|\n",
            "|   2020-10|       GA|             13|  STEPHENS|           13257|18 to 49 years|Female|     NA|       NA|                           null|                  0|            Missing|    Missing|Laboratory-confir...|   Symptomatic|Missing|Missing| Missing|                    null|\n",
            "+----------+---------+---------------+----------+----------------+--------------+------+-------+---------+-------------------------------+-------------------+-------------------+-----------+--------------------+--------------+-------+-------+--------+------------------------+\n",
            "only showing top 20 rows\n",
            "\n"
          ]
        }
      ]
    },
    {
      "cell_type": "code",
      "metadata": {
        "id": "i9FTL39cYyff"
      },
      "source": [
        "#dropped na values\n",
        "covid_data_df_dropped = covid_data_df.dropna(how = 'all')"
      ],
      "execution_count": 6,
      "outputs": []
    },
    {
      "cell_type": "code",
      "metadata": {
        "colab": {
          "base_uri": "https://localhost:8080/"
        },
        "id": "DYxH14DUYyh-",
        "outputId": "745bf9f9-6398-4348-ab01-9adbd9268102"
      },
      "source": [
        "covid_data_df_dropped.show()"
      ],
      "execution_count": 7,
      "outputs": [
        {
          "output_type": "stream",
          "name": "stdout",
          "text": [
            "+----------+---------+---------------+----------+----------------+--------------+------+-------+---------+-------------------------------+-------------------+-------------------+-----------+--------------------+--------------+-------+-------+--------+------------------------+\n",
            "|case_month|res_state|state_fips_code|res_county|county_fips_code|     age_group|   sex|   race|ethnicity|case_positive_specimen_interval|case_onset_interval|            process|exposure_yn|      current_status|symptom_status|hosp_yn| icu_yn|death_yn|underlying_conditions_yn|\n",
            "+----------+---------+---------------+----------+----------------+--------------+------+-------+---------+-------------------------------+-------------------+-------------------+-----------+--------------------+--------------+-------+-------+--------+------------------------+\n",
            "|   2020-06|       OH|             39|   BELMONT|           39013|            NA|    NA|     NA|       NA|                              0|               null|            Missing|    Missing|Laboratory-confir...|       Missing|Missing|Missing|      NA|                     Yes|\n",
            "|   2020-09|       OH|             39|    GALLIA|           39053|  0 - 17 years|    NA|     NA|       NA|                           null|               null|            Missing|    Missing|Laboratory-confir...|       Missing|Missing|Missing|      No|                    null|\n",
            "|   2020-11|       PA|             42|       ELK|           42047|18 to 49 years|    NA|     NA|       NA|                              0|               null|            Missing|    Missing|Laboratory-confir...|       Unknown|     No|Unknown| Unknown|                    null|\n",
            "|   2021-02|       AL|             01|TALLAPOOSA|           01123|       Missing|Female|Missing|  Missing|                           null|               null|            Missing|    Missing|       Probable Case|       Missing|Missing|Missing| Missing|                    null|\n",
            "|   2020-12|       IA|             19|   CARROLL|           19027|  0 - 17 years|Female|     NA|       NA|                           null|                  0|            Missing|    Missing|       Probable Case|   Symptomatic|Missing|Missing| Missing|                    null|\n",
            "|   2020-12|       CO|             08|    ELBERT|           08039|  0 - 17 years|Female|Missing|       NA|                           null|               null|            Missing|    Missing|Laboratory-confir...|       Missing|Missing|Missing| Missing|                    null|\n",
            "|   2020-07|       SC|             45|    JASPER|           45053|  0 - 17 years|Female|     NA|       NA|                           null|                  0|            Missing|    Missing|Laboratory-confir...|   Symptomatic|     No|Missing|      No|                    null|\n",
            "|   2021-05|       OH|             39| JEFFERSON|           39081|  0 - 17 years|Female|     NA|       NA|                              1|                  0|Clinical evaluation|        Yes|       Probable Case|   Symptomatic|     No|     No|      No|                      No|\n",
            "|   2020-11|       MI|             26|   LENAWEE|           26091|  0 - 17 years|Female|     NA|       NA|                           null|               null|            Missing|    Missing|Laboratory-confir...|       Missing|     No|Missing|      NA|                    null|\n",
            "|   2020-10|       IL|             17| ST. CLAIR|           17163|  0 - 17 years|Female|Missing|  Missing|                           null|                  0|            Missing|    Missing|       Probable Case|       Missing|Missing|Missing| Missing|                    null|\n",
            "|   2021-04|       IL|             17|STEPHENSON|           17177|  0 - 17 years|Female|     NA|       NA|                           null|                  0|            Missing|    Missing|       Probable Case|       Missing|     No|Missing| Missing|                    null|\n",
            "|   2020-11|       OH|             39|WASHINGTON|           39167|  0 - 17 years|Female|     NA|       NA|                           null|               null|            Missing|    Missing|Laboratory-confir...|       Missing|Missing|Missing|      NA|                    null|\n",
            "|   2020-09|       WA|             53|    ASOTIN|           53003|18 to 49 years|Female|     NA|       NA|                              0|                  0|            Missing|    Missing|Laboratory-confir...|   Symptomatic|     No|Missing| Missing|                    null|\n",
            "|   2020-10|       OH|             39|  AUGLAIZE|           39011|18 to 49 years|Female|     NA|       NA|                           null|                  0|Clinical evaluation|    Unknown|       Probable Case|   Symptomatic|     No|Missing| Unknown|                    null|\n",
            "|   2020-11|       OH|             39|  DEFIANCE|           39039|18 to 49 years|Female|     NA|       NA|                              0|                  0|Clinical evaluation|    Unknown|Laboratory-confir...|   Symptomatic|     No|     No|      No|                     Yes|\n",
            "|   2020-11|       MI|             26|     EMMET|           26047|18 to 49 years|Female|     NA|       NA|                           null|                  0|            Missing|    Missing|Laboratory-confir...|   Symptomatic|     No|Missing|      NA|                    null|\n",
            "|   2020-11|       GA|             13|  HARALSON|           13143|18 to 49 years|Female|Unknown|  Missing|                           null|                  0|            Missing|    Missing|Laboratory-confir...|   Symptomatic|Missing|Missing| Missing|                    null|\n",
            "|   2021-02|       OH|             39|      PIKE|           39131|18 to 49 years|Female|     NA|       NA|                           null|                  0|Clinical evaluation|        Yes|Laboratory-confir...|   Symptomatic|     No|     No|      NA|                     Yes|\n",
            "|   2020-08|       IN|             18|   SPENCER|           18147|18 to 49 years|Female|     NA|       NA|                              0|               null|            Missing|    Missing|Laboratory-confir...|       Missing|Missing|Missing|      No|                    null|\n",
            "|   2020-10|       GA|             13|  STEPHENS|           13257|18 to 49 years|Female|     NA|       NA|                           null|                  0|            Missing|    Missing|Laboratory-confir...|   Symptomatic|Missing|Missing| Missing|                    null|\n",
            "+----------+---------+---------------+----------+----------------+--------------+------+-------+---------+-------------------------------+-------------------+-------------------+-----------+--------------------+--------------+-------+-------+--------+------------------------+\n",
            "only showing top 20 rows\n",
            "\n"
          ]
        }
      ]
    },
    {
      "cell_type": "code",
      "metadata": {
        "colab": {
          "base_uri": "https://localhost:8080/"
        },
        "id": "icaWab4LYyku",
        "outputId": "0f62bd86-33ee-46c0-f25c-51e3c6153703"
      },
      "source": [
        "covid_data_df_dropped"
      ],
      "execution_count": 8,
      "outputs": [
        {
          "output_type": "execute_result",
          "data": {
            "text/plain": [
              "DataFrame[case_month: string, res_state: string, state_fips_code: string, res_county: string, county_fips_code: string, age_group: string, sex: string, race: string, ethnicity: string, case_positive_specimen_interval: int, case_onset_interval: int, process: string, exposure_yn: string, current_status: string, symptom_status: string, hosp_yn: string, icu_yn: string, death_yn: string, underlying_conditions_yn: string]"
            ]
          },
          "metadata": {},
          "execution_count": 8
        }
      ]
    },
    {
      "cell_type": "code",
      "metadata": {
        "id": "1fUfXCkXeE-9"
      },
      "source": [
        "# Drop Columns: case_month, state_fips, county_fips, case positive specimen interval, case onset interval, process, exposure, current status, icu, death\n",
        "#Ava edit: put ethnicity back in and dropped underlying_conditions and sympton_status\n",
        "columns_to_drop = ['case_month', 'state_fips_code', 'county_fips_code','underlying_conditions_yn', \"symptom_status\", 'case_positive_specimen_interval', 'case_onset_interval', 'process', 'exposure_yn', 'current_status', 'icu_yn', 'death_yn']\n",
        "covid_data_df_dropped_columns = covid_data_df_dropped.drop(*columns_to_drop)"
      ],
      "execution_count": 9,
      "outputs": []
    },
    {
      "cell_type": "code",
      "metadata": {
        "colab": {
          "base_uri": "https://localhost:8080/"
        },
        "id": "FUz4fmp9eFBz",
        "outputId": "6d104dbd-1dcf-4fdb-f0ec-f71c9311fa60"
      },
      "source": [
        "covid_data_df_dropped_columns.show()"
      ],
      "execution_count": 10,
      "outputs": [
        {
          "output_type": "stream",
          "name": "stdout",
          "text": [
            "+---------+----------+--------------+------+-------+---------+-------+\n",
            "|res_state|res_county|     age_group|   sex|   race|ethnicity|hosp_yn|\n",
            "+---------+----------+--------------+------+-------+---------+-------+\n",
            "|       OH|   BELMONT|            NA|    NA|     NA|       NA|Missing|\n",
            "|       OH|    GALLIA|  0 - 17 years|    NA|     NA|       NA|Missing|\n",
            "|       PA|       ELK|18 to 49 years|    NA|     NA|       NA|     No|\n",
            "|       AL|TALLAPOOSA|       Missing|Female|Missing|  Missing|Missing|\n",
            "|       IA|   CARROLL|  0 - 17 years|Female|     NA|       NA|Missing|\n",
            "|       CO|    ELBERT|  0 - 17 years|Female|Missing|       NA|Missing|\n",
            "|       SC|    JASPER|  0 - 17 years|Female|     NA|       NA|     No|\n",
            "|       OH| JEFFERSON|  0 - 17 years|Female|     NA|       NA|     No|\n",
            "|       MI|   LENAWEE|  0 - 17 years|Female|     NA|       NA|     No|\n",
            "|       IL| ST. CLAIR|  0 - 17 years|Female|Missing|  Missing|Missing|\n",
            "|       IL|STEPHENSON|  0 - 17 years|Female|     NA|       NA|     No|\n",
            "|       OH|WASHINGTON|  0 - 17 years|Female|     NA|       NA|Missing|\n",
            "|       WA|    ASOTIN|18 to 49 years|Female|     NA|       NA|     No|\n",
            "|       OH|  AUGLAIZE|18 to 49 years|Female|     NA|       NA|     No|\n",
            "|       OH|  DEFIANCE|18 to 49 years|Female|     NA|       NA|     No|\n",
            "|       MI|     EMMET|18 to 49 years|Female|     NA|       NA|     No|\n",
            "|       GA|  HARALSON|18 to 49 years|Female|Unknown|  Missing|Missing|\n",
            "|       OH|      PIKE|18 to 49 years|Female|     NA|       NA|     No|\n",
            "|       IN|   SPENCER|18 to 49 years|Female|     NA|       NA|Missing|\n",
            "|       GA|  STEPHENS|18 to 49 years|Female|     NA|       NA|Missing|\n",
            "+---------+----------+--------------+------+-------+---------+-------+\n",
            "only showing top 20 rows\n",
            "\n"
          ]
        }
      ]
    },
    {
      "cell_type": "code",
      "metadata": {
        "id": "hoPCpi544wz6"
      },
      "source": [
        "covid_data_df_dropped_columns_hospital = covid_data_df_dropped_columns.where(covid_data_df_dropped_columns.hosp_yn != 'Missing')"
      ],
      "execution_count": 11,
      "outputs": []
    },
    {
      "cell_type": "code",
      "metadata": {
        "colab": {
          "base_uri": "https://localhost:8080/"
        },
        "id": "BHCDQSoHfRvZ",
        "outputId": "38273c1f-cbe7-41e8-fa5d-6c46954fe192"
      },
      "source": [
        "covid_data_df_dropped_columns_hospital.show()"
      ],
      "execution_count": 12,
      "outputs": [
        {
          "output_type": "stream",
          "name": "stdout",
          "text": [
            "+---------+----------+--------------+------+--------------+---------+-------+\n",
            "|res_state|res_county|     age_group|   sex|          race|ethnicity|hosp_yn|\n",
            "+---------+----------+--------------+------+--------------+---------+-------+\n",
            "|       PA|       ELK|18 to 49 years|    NA|            NA|       NA|     No|\n",
            "|       SC|    JASPER|  0 - 17 years|Female|            NA|       NA|     No|\n",
            "|       OH| JEFFERSON|  0 - 17 years|Female|            NA|       NA|     No|\n",
            "|       MI|   LENAWEE|  0 - 17 years|Female|            NA|       NA|     No|\n",
            "|       IL|STEPHENSON|  0 - 17 years|Female|            NA|       NA|     No|\n",
            "|       WA|    ASOTIN|18 to 49 years|Female|            NA|       NA|     No|\n",
            "|       OH|  AUGLAIZE|18 to 49 years|Female|            NA|       NA|     No|\n",
            "|       OH|  DEFIANCE|18 to 49 years|Female|            NA|       NA|     No|\n",
            "|       MI|     EMMET|18 to 49 years|Female|            NA|       NA|     No|\n",
            "|       OH|      PIKE|18 to 49 years|Female|            NA|       NA|     No|\n",
            "|       FL|    TAYLOR|18 to 49 years|Female|            NA|       NA|     No|\n",
            "|       KY|   LINCOLN|50 to 64 years|Female|            NA|       NA|     No|\n",
            "|       VA|   PULASKI|50 to 64 years|Female|            NA|       NA|     No|\n",
            "|       UT|    CARBON|     65+ years|Female|            NA|       NA|     No|\n",
            "|       KY|   LETCHER|     65+ years|Female|            NA|       NA|     No|\n",
            "|       NC|    PERSON|     65+ years|Female|            NA|       NA|Unknown|\n",
            "|       NC|   MADISON|  0 - 17 years|  Male|            NA|       NA|     No|\n",
            "|       OH|   LICKING|18 to 49 years|Female|         Asian|       NA|    Yes|\n",
            "|       NC|   HALIFAX|18 to 49 years|Female|         Black|       NA|     No|\n",
            "|       VT|   RUTLAND|18 to 49 years|Female|Multiple/Other|       NA|     No|\n",
            "+---------+----------+--------------+------+--------------+---------+-------+\n",
            "only showing top 20 rows\n",
            "\n"
          ]
        }
      ]
    },
    {
      "cell_type": "code",
      "metadata": {
        "id": "PcdZgGIugWPY"
      },
      "source": [
        "covid_data_df_dropped_columns_hospital_again = covid_data_df_dropped_columns_hospital.where(covid_data_df_dropped_columns.hosp_yn != 'Unknown')"
      ],
      "execution_count": 13,
      "outputs": []
    },
    {
      "cell_type": "code",
      "metadata": {
        "colab": {
          "base_uri": "https://localhost:8080/"
        },
        "id": "kgPhVmxsgWSQ",
        "outputId": "b7f1b92c-595b-466a-d326-90a3b2300006"
      },
      "source": [
        "covid_data_df_dropped_columns_hospital_na = covid_data_df_dropped_columns_hospital_again.where(covid_data_df_dropped_columns_hospital_again.hosp_yn!='NA')\n",
        "covid_data_df_dropped_columns_hospital_null = covid_data_df_dropped_columns_hospital_na.where(covid_data_df_dropped_columns_hospital_na.hosp_yn!='null')\n",
        "covid_data_df_dropped_columns_hospital_null.show()"
      ],
      "execution_count": 14,
      "outputs": [
        {
          "output_type": "stream",
          "name": "stdout",
          "text": [
            "+---------+----------+--------------+------+--------------+---------------+-------+\n",
            "|res_state|res_county|     age_group|   sex|          race|      ethnicity|hosp_yn|\n",
            "+---------+----------+--------------+------+--------------+---------------+-------+\n",
            "|       PA|       ELK|18 to 49 years|    NA|            NA|             NA|     No|\n",
            "|       SC|    JASPER|  0 - 17 years|Female|            NA|             NA|     No|\n",
            "|       OH| JEFFERSON|  0 - 17 years|Female|            NA|             NA|     No|\n",
            "|       MI|   LENAWEE|  0 - 17 years|Female|            NA|             NA|     No|\n",
            "|       IL|STEPHENSON|  0 - 17 years|Female|            NA|             NA|     No|\n",
            "|       WA|    ASOTIN|18 to 49 years|Female|            NA|             NA|     No|\n",
            "|       OH|  AUGLAIZE|18 to 49 years|Female|            NA|             NA|     No|\n",
            "|       OH|  DEFIANCE|18 to 49 years|Female|            NA|             NA|     No|\n",
            "|       MI|     EMMET|18 to 49 years|Female|            NA|             NA|     No|\n",
            "|       OH|      PIKE|18 to 49 years|Female|            NA|             NA|     No|\n",
            "|       FL|    TAYLOR|18 to 49 years|Female|            NA|             NA|     No|\n",
            "|       KY|   LINCOLN|50 to 64 years|Female|            NA|             NA|     No|\n",
            "|       VA|   PULASKI|50 to 64 years|Female|            NA|             NA|     No|\n",
            "|       UT|    CARBON|     65+ years|Female|            NA|             NA|     No|\n",
            "|       KY|   LETCHER|     65+ years|Female|            NA|             NA|     No|\n",
            "|       NC|   MADISON|  0 - 17 years|  Male|            NA|             NA|     No|\n",
            "|       OH|   LICKING|18 to 49 years|Female|         Asian|             NA|    Yes|\n",
            "|       NC|   HALIFAX|18 to 49 years|Female|         Black|             NA|     No|\n",
            "|       VT|   RUTLAND|18 to 49 years|Female|Multiple/Other|             NA|     No|\n",
            "|       WA|    CHELAN|  0 - 17 years|Female|       Missing|Hispanic/Latino|     No|\n",
            "+---------+----------+--------------+------+--------------+---------------+-------+\n",
            "only showing top 20 rows\n",
            "\n"
          ]
        }
      ]
    },
    {
      "cell_type": "code",
      "metadata": {
        "id": "mDtoOTATgWUx"
      },
      "source": [
        "# those codes took away all hospitazation values werhe the condition was missing or unknown"
      ],
      "execution_count": null,
      "outputs": []
    },
    {
      "cell_type": "code",
      "metadata": {
        "id": "VsAlLL65kGxC"
      },
      "source": [
        "#removing every null value across all the columns    NA, Missing, Unknown, null"
      ],
      "execution_count": null,
      "outputs": []
    },
    {
      "cell_type": "code",
      "metadata": {
        "id": "3qdmQGFUg6h0"
      },
      "source": [
        "# remove missing values from resident state\n",
        "res_state_df_unknown = covid_data_df_dropped_columns_hospital_null.where(covid_data_df_dropped_columns_hospital_null.res_state!= 'Unknown')\n",
        "res_state_df_missing = res_state_df_unknown.where(res_state_df_unknown.res_state!= 'Missing')\n",
        "res_state_df_na = res_state_df_missing.where(res_state_df_missing.res_state!='NA')\n",
        "res_state_df_null = res_state_df_na.where(res_state_df_na.res_state!='null')"
      ],
      "execution_count": 15,
      "outputs": []
    },
    {
      "cell_type": "code",
      "metadata": {
        "id": "Rl3nA9guqMzE"
      },
      "source": [
        "#remove missing values from state res_county\n",
        "res_county_df_unknown = res_state_df_null.where(res_state_df_null.res_county!='Unknown')\n",
        "res_county_df_missing = res_county_df_unknown.where(res_county_df_unknown.res_county!='Missing')\n",
        "res_county_df_na = res_county_df_missing.where(res_county_df_missing.res_county!='NA')\n",
        "res_county_df_null = res_county_df_na.where(res_county_df_na.res_county!='null')"
      ],
      "execution_count": 16,
      "outputs": []
    },
    {
      "cell_type": "code",
      "metadata": {
        "id": "0sDToDn1ili6"
      },
      "source": [
        "#remove missing values from state age_group\n",
        "age_group_df_unknown = res_county_df_null.where(res_county_df_null.age_group!='Unknown')\n",
        "age_group_df_missing = age_group_df_unknown.where(age_group_df_unknown.age_group!='Missing')\n",
        "age_group_df_na = age_group_df_missing.where(age_group_df_missing.age_group!='NA')\n",
        "age_group_df_null = age_group_df_na.where(age_group_df_na.age_group!='null')"
      ],
      "execution_count": 17,
      "outputs": []
    },
    {
      "cell_type": "code",
      "metadata": {
        "id": "DKHJ9Covilo9"
      },
      "source": [
        "#removes missing values from sex\n",
        "sex_df_unknown = age_group_df_null.where(age_group_df_null.sex!='Unknown')\n",
        "sex_df_missing = sex_df_unknown.where(sex_df_unknown.sex!='Missing')\n",
        "sex_df_na = sex_df_missing.where(sex_df_missing.sex!='NA')\n",
        "sex_df_null = sex_df_na.where(sex_df_na.sex!='null')"
      ],
      "execution_count": 18,
      "outputs": []
    },
    {
      "cell_type": "code",
      "metadata": {
        "id": "I38wM7vailrt"
      },
      "source": [
        "#removes missing values from race\n",
        "race_df_unknown = sex_df_null.where(sex_df_null.race!='Unknown')\n",
        "race_df_missing = race_df_unknown.where(race_df_unknown.race!='Missing')\n",
        "race_df_na = race_df_missing.where(race_df_missing.race!='NA')\n",
        "race_df_null =race_df_na.where(race_df_na.race!='null')"
      ],
      "execution_count": 19,
      "outputs": []
    },
    {
      "cell_type": "code",
      "metadata": {
        "id": "gLnPOLRhiluc"
      },
      "source": [
        "#removes missing values from symptom_status\n",
        "#symptom_status_unknown = race_df_null.where(race_df_null.symptom_status!='Unknown')\n",
        "#symptom_status_missing = symptom_status_unknown.where(symptom_status_unknown.symptom_status!='Missing')\n",
        "#symptom_status_na = symptom_status_missing.where(symptom_status_missing.symptom_status!='NA')\n",
        "#symptom_status_null = symptom_status_na.where(symptom_status_na.symptom_status!='null')"
      ],
      "execution_count": null,
      "outputs": []
    },
    {
      "cell_type": "code",
      "metadata": {
        "id": "uzZOMM82ilxM"
      },
      "source": [
        "#removes missing values from underlying_conditions_yn\n",
        "#underlying_conditions_unknown = symptom_status_null.where(symptom_status_null.underlying_conditions_yn!='Unknown')\n",
        "#underlying_conditions_missing = underlying_conditions_unknown.where(underlying_conditions_unknown.underlying_conditions_yn!='Missing')\n",
        "#underlying_conditions_na = underlying_conditions_missing.where(underlying_conditions_missing.underlying_conditions_yn!='NA')\n",
        "#underlying_conditions_null = underlying_conditions_na.where(underlying_conditions_na.underlying_conditions_yn!='null')"
      ],
      "execution_count": null,
      "outputs": []
    },
    {
      "cell_type": "code",
      "metadata": {
        "id": "aml-gxzfV_AW"
      },
      "source": [
        "#removes missing values from ethnicity\n",
        "ethnicity_df_unknown = race_df_null.where(race_df_null.ethnicity!='Unknown')\n",
        "ethnicity_df_missing = ethnicity_df_unknown.where(ethnicity_df_unknown.ethnicity!='Missing')\n",
        "ethnicity_df_na = ethnicity_df_missing.where(ethnicity_df_missing.ethnicity!='NA')\n",
        "ethnicity_df_null =ethnicity_df_na.where(ethnicity_df_na.ethnicity!='null')"
      ],
      "execution_count": 28,
      "outputs": []
    },
    {
      "cell_type": "code",
      "metadata": {
        "colab": {
          "base_uri": "https://localhost:8080/"
        },
        "id": "sYXvj5qYil2l",
        "outputId": "8e3a0edc-b272-454c-cbf4-72d00ac0c7a2"
      },
      "source": [
        "provisional_df = ethnicity_df_null.dropna()\n",
        "provisional_df.show()"
      ],
      "execution_count": 29,
      "outputs": [
        {
          "output_type": "stream",
          "name": "stdout",
          "text": [
            "+---------+------------+--------------+------+--------------------+-------------------+-------+\n",
            "|res_state|  res_county|     age_group|   sex|                race|          ethnicity|hosp_yn|\n",
            "+---------+------------+--------------+------+--------------------+-------------------+-------+\n",
            "|       NJ|      CAMDEN|18 to 49 years|Female|               Black|    Hispanic/Latino|     No|\n",
            "|       NJ|      HUDSON|18 to 49 years|Female|               Black|    Hispanic/Latino|     No|\n",
            "|       VA|NORFOLK CITY|18 to 49 years|Female|      Multiple/Other|    Hispanic/Latino|     No|\n",
            "|       FL|    HERNANDO|  0 - 17 years|Female|               White|    Hispanic/Latino|     No|\n",
            "|       OH|      BUTLER|18 to 49 years|Female|               White|    Hispanic/Latino|     No|\n",
            "|       FL|      HENDRY|18 to 49 years|Female|               White|    Hispanic/Latino|     No|\n",
            "|       FL|      MONROE|18 to 49 years|Female|               White|    Hispanic/Latino|     No|\n",
            "|       FL|      DESOTO|  0 - 17 years|  Male|               White|    Hispanic/Latino|     No|\n",
            "|       ID|      JEROME|18 to 49 years|  Male|               White|    Hispanic/Latino|     No|\n",
            "|       KY|      WARREN|18 to 49 years|  Male|               White|    Hispanic/Latino|     No|\n",
            "|       TN|      SHELBY|18 to 49 years|Female|               Black|Non-Hispanic/Latino|     No|\n",
            "|       CA|   SAN DIEGO|18 to 49 years|  Male|               White|Non-Hispanic/Latino|     No|\n",
            "|       CA|     VENTURA|  0 - 17 years|Female|American Indian/A...|    Hispanic/Latino|     No|\n",
            "|       MI|       WAYNE|18 to 49 years|Female|      Multiple/Other|    Hispanic/Latino|    Yes|\n",
            "|       FL|    OKALOOSA|18 to 49 years|  Male|      Multiple/Other|    Hispanic/Latino|     No|\n",
            "|       NC|    CALDWELL|18 to 49 years|Female|               White|    Hispanic/Latino|     No|\n",
            "|       NC|     CATAWBA|18 to 49 years|Female|               White|    Hispanic/Latino|     No|\n",
            "|       KS|     DOUGLAS|18 to 49 years|Female|               White|    Hispanic/Latino|     No|\n",
            "|       VA|   FREDERICK|18 to 49 years|Female|               White|    Hispanic/Latino|     No|\n",
            "|       FL|        LEON|18 to 49 years|Female|               White|    Hispanic/Latino|     No|\n",
            "+---------+------------+--------------+------+--------------------+-------------------+-------+\n",
            "only showing top 20 rows\n",
            "\n"
          ]
        }
      ]
    },
    {
      "cell_type": "code",
      "metadata": {
        "colab": {
          "base_uri": "https://localhost:8080/"
        },
        "id": "6Q6STLoGil5s",
        "outputId": "b28b6c8c-7b34-436a-9aec-ec0281d6d4ed"
      },
      "source": [
        "#created the provisional database \n",
        "#provisional_df is the provisional database\n",
        "provisional_df.count()"
      ],
      "execution_count": 30,
      "outputs": [
        {
          "output_type": "execute_result",
          "data": {
            "text/plain": [
              "6952336"
            ]
          },
          "metadata": {},
          "execution_count": 30
        }
      ]
    },
    {
      "cell_type": "code",
      "metadata": {
        "id": "4o1UbQFog6ku"
      },
      "source": [
        ""
      ],
      "execution_count": null,
      "outputs": []
    },
    {
      "cell_type": "code",
      "metadata": {
        "id": "h8zeZx4zgWXa"
      },
      "source": [
        ""
      ],
      "execution_count": null,
      "outputs": []
    },
    {
      "cell_type": "code",
      "metadata": {
        "id": "ojFD3BEKgWaI"
      },
      "source": [
        ""
      ],
      "execution_count": null,
      "outputs": []
    },
    {
      "cell_type": "code",
      "metadata": {
        "id": "pu9wL-0I3A45"
      },
      "source": [
        ""
      ],
      "execution_count": null,
      "outputs": []
    },
    {
      "cell_type": "code",
      "metadata": {
        "id": "LYJ1DyLO3A7g"
      },
      "source": [
        "# Use get_dummies() to create variables for text features: all remaining columns"
      ],
      "execution_count": null,
      "outputs": []
    },
    {
      "cell_type": "code",
      "metadata": {
        "id": "J451CaH-3A97"
      },
      "source": [
        "# Configure settings for RDS\n",
        "mode = \"append\"\n",
        "jdbc_url=\"jdbc:postgresql://'insert url'\"\n",
        "config = {\"user\":\"postgres\", \n",
        "          \"password\": \"\", \n",
        "          \"driver\":\"org.postgresql.Driver\"}"
      ],
      "execution_count": null,
      "outputs": []
    },
    {
      "cell_type": "code",
      "metadata": {
        "id": "0trC4Hqi3BAQ"
      },
      "source": [
        "# Write new df to table in RDS\n",
        "insertnewdfname.write.jdbc(url=jdbc_url, table='insert new table name', mode=mode, properties=config)"
      ],
      "execution_count": null,
      "outputs": []
    },
    {
      "cell_type": "code",
      "metadata": {
        "id": "8T0RDaX83BCS"
      },
      "source": [
        "#Start machine learning code here"
      ],
      "execution_count": null,
      "outputs": []
    },
    {
      "cell_type": "code",
      "metadata": {
        "id": "i98TSCAXD564"
      },
      "source": [
        ""
      ],
      "execution_count": null,
      "outputs": []
    },
    {
      "cell_type": "code",
      "metadata": {
        "id": "B8ra4W1NCWvf"
      },
      "source": [
        ""
      ],
      "execution_count": null,
      "outputs": []
    },
    {
      "cell_type": "code",
      "metadata": {
        "id": "1eojarKhCWyE"
      },
      "source": [
        ""
      ],
      "execution_count": null,
      "outputs": []
    }
  ]
}