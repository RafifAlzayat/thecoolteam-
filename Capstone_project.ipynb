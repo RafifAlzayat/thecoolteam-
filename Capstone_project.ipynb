{
  "nbformat": 4,
  "nbformat_minor": 0,
  "metadata": {
    "colab": {
      "name": "Capstone_project.ipynb",
      "provenance": [],
      "collapsed_sections": [],
      "authorship_tag": "ABX9TyPk/lsxzW7BAXMhR/NUdKx1",
      "include_colab_link": true
    },
    "kernelspec": {
      "name": "python3",
      "display_name": "Python 3"
    },
    "language_info": {
      "name": "python"
    }
  },
  "cells": [
    {
      "cell_type": "markdown",
      "metadata": {
        "id": "view-in-github",
        "colab_type": "text"
      },
      "source": [
        "<a href=\"https://colab.research.google.com/github/RafifAlzayat/thecoolteam-/blob/alan-branch/Capstone_project.ipynb\" target=\"_parent\"><img src=\"https://colab.research.google.com/assets/colab-badge.svg\" alt=\"Open In Colab\"/></a>"
      ]
    },
    {
      "cell_type": "code",
      "metadata": {
        "colab": {
          "base_uri": "https://localhost:8080/"
        },
        "id": "y6NAgKJFtCYv",
        "outputId": "aaefb9c8-cc6c-453b-9f27-e6b5a16db4f2"
      },
      "source": [
        "import os\n",
        "# Find the latest version of spark 3.0  from http://www.apache.org/dist/spark/ and enter as the spark version\n",
        "# For example:\n",
        "# spark_version = 'spark-3.0.3'\n",
        "spark_version = 'spark-3.0.3'\n",
        "os.environ['SPARK_VERSION']=spark_version\n",
        "\n",
        "# Install Spark and Java\n",
        "!apt-get update\n",
        "!apt-get install openjdk-11-jdk-headless -qq > /dev/null\n",
        "!wget -q http://www.apache.org/dist/spark/$SPARK_VERSION/$SPARK_VERSION-bin-hadoop2.7.tgz\n",
        "!tar xf $SPARK_VERSION-bin-hadoop2.7.tgz\n",
        "!pip install -q findspark\n",
        "\n",
        "# Set Environment Variables\n",
        "import os\n",
        "os.environ[\"JAVA_HOME\"] = \"/usr/lib/jvm/java-11-openjdk-amd64\"\n",
        "os.environ[\"SPARK_HOME\"] = f\"/content/{spark_version}-bin-hadoop2.7\"\n",
        "\n",
        "# Start a SparkSession\n",
        "import findspark\n",
        "findspark.init()"
      ],
      "execution_count": 3,
      "outputs": [
        {
          "output_type": "stream",
          "name": "stdout",
          "text": [
            "\r0% [Working]\r            \rHit:1 https://cloud.r-project.org/bin/linux/ubuntu bionic-cran40/ InRelease\n",
            "\r0% [Connecting to archive.ubuntu.com] [Waiting for headers] [Connecting to ppa.\r                                                                               \rGet:2 http://security.ubuntu.com/ubuntu bionic-security InRelease [88.7 kB]\n",
            "\r0% [1 InRelease gpgv 3,626 B] [Connecting to archive.ubuntu.com] [2 InRelease 1\r                                                                               \rIgn:3 https://developer.download.nvidia.com/compute/cuda/repos/ubuntu1804/x86_64  InRelease\n",
            "\r0% [1 InRelease gpgv 3,626 B] [Connecting to archive.ubuntu.com (91.189.88.152)\r                                                                               \rIgn:4 https://developer.download.nvidia.com/compute/machine-learning/repos/ubuntu1804/x86_64  InRelease\n",
            "Hit:5 https://developer.download.nvidia.com/compute/cuda/repos/ubuntu1804/x86_64  Release\n",
            "Hit:6 http://ppa.launchpad.net/c2d4u.team/c2d4u4.0+/ubuntu bionic InRelease\n",
            "Hit:7 https://developer.download.nvidia.com/compute/machine-learning/repos/ubuntu1804/x86_64  Release\n",
            "Hit:8 http://archive.ubuntu.com/ubuntu bionic InRelease\n",
            "Hit:9 http://ppa.launchpad.net/cran/libgit2/ubuntu bionic InRelease\n",
            "Get:10 http://archive.ubuntu.com/ubuntu bionic-updates InRelease [88.7 kB]\n",
            "Hit:11 http://ppa.launchpad.net/deadsnakes/ppa/ubuntu bionic InRelease\n",
            "Hit:13 http://ppa.launchpad.net/graphics-drivers/ppa/ubuntu bionic InRelease\n",
            "Get:14 http://archive.ubuntu.com/ubuntu bionic-backports InRelease [74.6 kB]\n",
            "Fetched 252 kB in 2s (109 kB/s)\n",
            "Reading package lists... Done\n"
          ]
        }
      ]
    },
    {
      "cell_type": "code",
      "metadata": {
        "id": "WLfWBfBQtOPk"
      },
      "source": [
        "from pyspark.sql import SparkSession\n",
        "spark = SparkSession.builder.appName(\"Yelp_NLP\").getOrCreate()"
      ],
      "execution_count": 4,
      "outputs": []
    },
    {
      "cell_type": "code",
      "metadata": {
        "id": "MWasRkW5tOUD"
      },
      "source": [
        "import json\n",
        "import pandas as pd\n",
        "import numpy as np\n",
        "import requests\n",
        "from pyspark.sql import functions as F\n",
        "from urllib.request import Request, urlopen\n",
        "from pyspark import SparkContext"
      ],
      "execution_count": 5,
      "outputs": []
    },
    {
      "cell_type": "code",
      "metadata": {
        "id": "Th-oYjr97HDk"
      },
      "source": [
        "#https://data.cdc.gov/api/views/n8mc-b4w4/rows.json?accessType=DOWNLOAD"
      ],
      "execution_count": null,
      "outputs": []
    },
    {
      "cell_type": "code",
      "metadata": {
        "id": "kAfcOJGo7HF5"
      },
      "source": [
        "from pyspark import SparkFiles\n",
        "url =\"https://rafifcoviddata.s3.amazonaws.com/COVID-19_Case_Surveillance_Public_Use_Data_with_Geography.csv\"\n",
        "spark.sparkContext.addFile(url)\n",
        "covid_data_df = spark.read.csv(SparkFiles.get(\"COVID-19_Case_Surveillance_Public_Use_Data_with_Geography.csv\"), sep=\",\", header=True, inferSchema=True)"
      ],
      "execution_count": 17,
      "outputs": []
    },
    {
      "cell_type": "code",
      "metadata": {
        "colab": {
          "base_uri": "https://localhost:8080/"
        },
        "id": "7jhEwNaN7HIb",
        "outputId": "cd84889f-a7cb-4c55-a197-e79a6dd15636"
      },
      "source": [
        "covid_data_df.show()"
      ],
      "execution_count": 20,
      "outputs": [
        {
          "output_type": "stream",
          "name": "stdout",
          "text": [
            "+----------+---------+---------------+----------+----------------+--------------+------+-------+---------+-------------------------------+-------------------+-------------------+-----------+--------------------+--------------+-------+-------+--------+------------------------+\n",
            "|case_month|res_state|state_fips_code|res_county|county_fips_code|     age_group|   sex|   race|ethnicity|case_positive_specimen_interval|case_onset_interval|            process|exposure_yn|      current_status|symptom_status|hosp_yn| icu_yn|death_yn|underlying_conditions_yn|\n",
            "+----------+---------+---------------+----------+----------------+--------------+------+-------+---------+-------------------------------+-------------------+-------------------+-----------+--------------------+--------------+-------+-------+--------+------------------------+\n",
            "|   2020-06|       OH|             39|   BELMONT|           39013|            NA|    NA|     NA|       NA|                              0|               null|            Missing|    Missing|Laboratory-confir...|       Missing|Missing|Missing|      NA|                     Yes|\n",
            "|   2020-09|       OH|             39|    GALLIA|           39053|  0 - 17 years|    NA|     NA|       NA|                           null|               null|            Missing|    Missing|Laboratory-confir...|       Missing|Missing|Missing|      No|                    null|\n",
            "|   2020-11|       PA|             42|       ELK|           42047|18 to 49 years|    NA|     NA|       NA|                              0|               null|            Missing|    Missing|Laboratory-confir...|       Unknown|     No|Unknown| Unknown|                    null|\n",
            "|   2021-02|       AL|             01|TALLAPOOSA|           01123|       Missing|Female|Missing|  Missing|                           null|               null|            Missing|    Missing|       Probable Case|       Missing|Missing|Missing| Missing|                    null|\n",
            "|   2020-12|       IA|             19|   CARROLL|           19027|  0 - 17 years|Female|     NA|       NA|                           null|                  0|            Missing|    Missing|       Probable Case|   Symptomatic|Missing|Missing| Missing|                    null|\n",
            "|   2020-12|       CO|             08|    ELBERT|           08039|  0 - 17 years|Female|Missing|       NA|                           null|               null|            Missing|    Missing|Laboratory-confir...|       Missing|Missing|Missing| Missing|                    null|\n",
            "|   2020-07|       SC|             45|    JASPER|           45053|  0 - 17 years|Female|     NA|       NA|                           null|                  0|            Missing|    Missing|Laboratory-confir...|   Symptomatic|     No|Missing|      No|                    null|\n",
            "|   2021-05|       OH|             39| JEFFERSON|           39081|  0 - 17 years|Female|     NA|       NA|                              1|                  0|Clinical evaluation|        Yes|       Probable Case|   Symptomatic|     No|     No|      No|                      No|\n",
            "|   2020-11|       MI|             26|   LENAWEE|           26091|  0 - 17 years|Female|     NA|       NA|                           null|               null|            Missing|    Missing|Laboratory-confir...|       Missing|     No|Missing|      NA|                    null|\n",
            "|   2020-10|       IL|             17| ST. CLAIR|           17163|  0 - 17 years|Female|Missing|  Missing|                           null|                  0|            Missing|    Missing|       Probable Case|       Missing|Missing|Missing| Missing|                    null|\n",
            "|   2021-04|       IL|             17|STEPHENSON|           17177|  0 - 17 years|Female|     NA|       NA|                           null|                  0|            Missing|    Missing|       Probable Case|       Missing|     No|Missing| Missing|                    null|\n",
            "|   2020-11|       OH|             39|WASHINGTON|           39167|  0 - 17 years|Female|     NA|       NA|                           null|               null|            Missing|    Missing|Laboratory-confir...|       Missing|Missing|Missing|      NA|                    null|\n",
            "|   2020-09|       WA|             53|    ASOTIN|           53003|18 to 49 years|Female|     NA|       NA|                              0|                  0|            Missing|    Missing|Laboratory-confir...|   Symptomatic|     No|Missing| Missing|                    null|\n",
            "|   2020-10|       OH|             39|  AUGLAIZE|           39011|18 to 49 years|Female|     NA|       NA|                           null|                  0|Clinical evaluation|    Unknown|       Probable Case|   Symptomatic|     No|Missing| Unknown|                    null|\n",
            "|   2020-11|       OH|             39|  DEFIANCE|           39039|18 to 49 years|Female|     NA|       NA|                              0|                  0|Clinical evaluation|    Unknown|Laboratory-confir...|   Symptomatic|     No|     No|      No|                     Yes|\n",
            "|   2020-11|       MI|             26|     EMMET|           26047|18 to 49 years|Female|     NA|       NA|                           null|                  0|            Missing|    Missing|Laboratory-confir...|   Symptomatic|     No|Missing|      NA|                    null|\n",
            "|   2020-11|       GA|             13|  HARALSON|           13143|18 to 49 years|Female|Unknown|  Missing|                           null|                  0|            Missing|    Missing|Laboratory-confir...|   Symptomatic|Missing|Missing| Missing|                    null|\n",
            "|   2021-02|       OH|             39|      PIKE|           39131|18 to 49 years|Female|     NA|       NA|                           null|                  0|Clinical evaluation|        Yes|Laboratory-confir...|   Symptomatic|     No|     No|      NA|                     Yes|\n",
            "|   2020-08|       IN|             18|   SPENCER|           18147|18 to 49 years|Female|     NA|       NA|                              0|               null|            Missing|    Missing|Laboratory-confir...|       Missing|Missing|Missing|      No|                    null|\n",
            "|   2020-10|       GA|             13|  STEPHENS|           13257|18 to 49 years|Female|     NA|       NA|                           null|                  0|            Missing|    Missing|Laboratory-confir...|   Symptomatic|Missing|Missing| Missing|                    null|\n",
            "+----------+---------+---------------+----------+----------------+--------------+------+-------+---------+-------------------------------+-------------------+-------------------+-----------+--------------------+--------------+-------+-------+--------+------------------------+\n",
            "only showing top 20 rows\n",
            "\n"
          ]
        }
      ]
    },
    {
      "cell_type": "code",
      "metadata": {
        "id": "4Y9ACYAX5RrB"
      },
      "source": [
        ""
      ],
      "execution_count": null,
      "outputs": []
    },
    {
      "cell_type": "code",
      "metadata": {
        "id": "hoPCpi544wz6"
      },
      "source": [
        ""
      ],
      "execution_count": null,
      "outputs": []
    },
    {
      "cell_type": "code",
      "metadata": {
        "id": "9N0QGUE0D54K"
      },
      "source": [
        "# Drop Columns: case month, state_fips, county fips, case positive specimen interval, case onset interval, process, exposure, current status, icu, death"
      ],
      "execution_count": null,
      "outputs": []
    },
    {
      "cell_type": "code",
      "metadata": {
        "id": "pu9wL-0I3A45"
      },
      "source": [
        "# Filter out hospital missing or unknown values"
      ],
      "execution_count": null,
      "outputs": []
    },
    {
      "cell_type": "code",
      "metadata": {
        "id": "LYJ1DyLO3A7g"
      },
      "source": [
        "# Use get_dummies() to create variables for text features: all remaining columns"
      ],
      "execution_count": null,
      "outputs": []
    },
    {
      "cell_type": "code",
      "metadata": {
        "id": "J451CaH-3A97"
      },
      "source": [
        "# Configure settings for RDS\n",
        "mode = \"append\"\n",
        "jdbc_url=\"jdbc:postgresql://'insert url'\"\n",
        "config = {\"user\":\"postgres\", \n",
        "          \"password\": \"\", \n",
        "          \"driver\":\"org.postgresql.Driver\"}"
      ],
      "execution_count": null,
      "outputs": []
    },
    {
      "cell_type": "code",
      "metadata": {
        "id": "0trC4Hqi3BAQ"
      },
      "source": [
        "# Write new df to table in RDS\n",
        "insertnewdfname.write.jdbc(url=jdbc_url, table='insert new table name', mode=mode, properties=config)"
      ],
      "execution_count": null,
      "outputs": []
    },
    {
      "cell_type": "code",
      "metadata": {
        "id": "8T0RDaX83BCS"
      },
      "source": [
        "#Start machine learning code here"
      ],
      "execution_count": null,
      "outputs": []
    },
    {
      "cell_type": "code",
      "metadata": {
        "id": "i98TSCAXD564"
      },
      "source": [
        ""
      ],
      "execution_count": null,
      "outputs": []
    },
    {
      "cell_type": "code",
      "metadata": {
        "id": "B8ra4W1NCWvf"
      },
      "source": [
        ""
      ],
      "execution_count": null,
      "outputs": []
    },
    {
      "cell_type": "code",
      "metadata": {
        "id": "1eojarKhCWyE"
      },
      "source": [
        ""
      ],
      "execution_count": null,
      "outputs": []
    }
  ]
}