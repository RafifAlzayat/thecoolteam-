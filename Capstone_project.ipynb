{
  "nbformat": 4,
  "nbformat_minor": 0,
  "metadata": {
    "colab": {
      "name": "Capstone_project.ipynb",
      "provenance": [],
      "collapsed_sections": [],
      "authorship_tag": "ABX9TyNSSF+phiQN4SMl15gRfh1D",
      "include_colab_link": true
    },
    "kernelspec": {
      "name": "python3",
      "display_name": "Python 3"
    },
    "language_info": {
      "name": "python"
    }
  },
  "cells": [
    {
      "cell_type": "markdown",
      "metadata": {
        "id": "view-in-github",
        "colab_type": "text"
      },
      "source": [
        "<a href=\"https://colab.research.google.com/github/RafifAlzayat/thecoolteam-/blob/alan-branch/Capstone_project.ipynb\" target=\"_parent\"><img src=\"https://colab.research.google.com/assets/colab-badge.svg\" alt=\"Open In Colab\"/></a>"
      ]
    },
    {
      "cell_type": "code",
      "metadata": {
        "colab": {
          "base_uri": "https://localhost:8080/"
        },
        "id": "y6NAgKJFtCYv",
        "outputId": "cc8dcd3f-44cf-407c-f02b-cca3971238f3"
      },
      "source": [
        "import os\n",
        "# Find the latest version of spark 3.0  from http://www.apache.org/dist/spark/ and enter as the spark version\n",
        "# For example:\n",
        "# spark_version = 'spark-3.0.3'\n",
        "spark_version = 'spark-3.0.3'\n",
        "os.environ['SPARK_VERSION']=spark_version\n",
        "\n",
        "# Install Spark and Java\n",
        "!apt-get update\n",
        "!apt-get install openjdk-11-jdk-headless -qq > /dev/null\n",
        "!wget -q http://www.apache.org/dist/spark/$SPARK_VERSION/$SPARK_VERSION-bin-hadoop2.7.tgz\n",
        "!tar xf $SPARK_VERSION-bin-hadoop2.7.tgz\n",
        "!pip install -q findspark\n",
        "\n",
        "# Set Environment Variables\n",
        "import os\n",
        "os.environ[\"JAVA_HOME\"] = \"/usr/lib/jvm/java-11-openjdk-amd64\"\n",
        "os.environ[\"SPARK_HOME\"] = f\"/content/{spark_version}-bin-hadoop2.7\"\n",
        "\n",
        "# Start a SparkSession\n",
        "import findspark\n",
        "findspark.init()"
      ],
      "execution_count": 29,
      "outputs": [
        {
          "output_type": "stream",
          "name": "stdout",
          "text": [
            "\r0% [Working]\r            \rGet:1 http://security.ubuntu.com/ubuntu bionic-security InRelease [88.7 kB]\n",
            "\r0% [Connecting to archive.ubuntu.com (91.189.88.152)] [1 InRelease 14.2 kB/88.7\r                                                                               \rIgn:2 https://developer.download.nvidia.com/compute/cuda/repos/ubuntu1804/x86_64  InRelease\n",
            "\r0% [Waiting for headers] [1 InRelease 37.3 kB/88.7 kB 42%] [Connected to cloud.\r                                                                               \rHit:3 https://cloud.r-project.org/bin/linux/ubuntu bionic-cran40/ InRelease\n",
            "\r0% [Waiting for headers] [1 InRelease 77.9 kB/88.7 kB 88%] [Waiting for headers\r0% [3 InRelease gpgv 3,626 B] [Waiting for headers] [1 InRelease 77.9 kB/88.7 k\r0% [3 InRelease gpgv 3,626 B] [Waiting for headers] [Waiting for headers] [Wait\r                                                                               \rIgn:4 https://developer.download.nvidia.com/compute/machine-learning/repos/ubuntu1804/x86_64  InRelease\n",
            "\r                                                                               \r0% [3 InRelease gpgv 3,626 B] [Waiting for headers] [Waiting for headers]\r                                                                         \rHit:5 https://developer.download.nvidia.com/compute/cuda/repos/ubuntu1804/x86_64  Release\n",
            "\r0% [3 InRelease gpgv 3,626 B] [Waiting for headers] [Waiting for headers]\r                                                                         \rHit:6 http://ppa.launchpad.net/c2d4u.team/c2d4u4.0+/ubuntu bionic InRelease\n",
            "\r                                                                         \rHit:7 https://developer.download.nvidia.com/compute/machine-learning/repos/ubuntu1804/x86_64  Release\n",
            "Hit:8 http://archive.ubuntu.com/ubuntu bionic InRelease\n",
            "Get:9 http://archive.ubuntu.com/ubuntu bionic-updates InRelease [88.7 kB]\n",
            "Hit:10 http://ppa.launchpad.net/cran/libgit2/ubuntu bionic InRelease\n",
            "Hit:11 http://ppa.launchpad.net/deadsnakes/ppa/ubuntu bionic InRelease\n",
            "Get:12 http://archive.ubuntu.com/ubuntu bionic-backports InRelease [74.6 kB]\n",
            "Hit:13 http://ppa.launchpad.net/graphics-drivers/ppa/ubuntu bionic InRelease\n",
            "Fetched 252 kB in 3s (94.8 kB/s)\n",
            "Reading package lists... Done\n"
          ]
        }
      ]
    },
    {
      "cell_type": "code",
      "metadata": {
        "id": "WLfWBfBQtOPk"
      },
      "source": [
        "from pyspark.sql import SparkSession\n",
        "spark = SparkSession.builder.appName(\"Yelp_NLP\").getOrCreate()"
      ],
      "execution_count": 30,
      "outputs": []
    },
    {
      "cell_type": "code",
      "metadata": {
        "id": "MWasRkW5tOUD"
      },
      "source": [
        "import json\n",
        "import pandas as pd\n",
        "import numpy as np\n",
        "import requests\n",
        "from pyspark.sql import functions as F\n",
        "from urllib.request import Request, urlopen\n",
        "from pyspark import SparkContext"
      ],
      "execution_count": 31,
      "outputs": []
    },
    {
      "cell_type": "code",
      "metadata": {
        "colab": {
          "base_uri": "https://localhost:8080/"
        },
        "id": "VpyBqVvn0B8q",
        "outputId": "aacf8140-0ba4-4e5b-cc6f-bb3c632c672a"
      },
      "source": [
        "\n",
        "spark = SparkSession.builder.config(\"spark.sql.warehouse.dir\", \"file:///C:/temp\").appName(\"readJSON\").getOrCreate()\n",
        "\n",
        "# Online data source\n",
        "onlineData = 'https://data.cdc.gov/resource/n8mc-b4w4.json'\n",
        "\n",
        "# read the online data file\n",
        "httpData = urlopen(onlineData).read().decode('utf-8')\n",
        "\n",
        "# convert into RDD\n",
        "rdd = sc.parallelize([httpData])\n",
        "\n",
        "# create a Dataframe\n",
        "jsonDF = spark.read.json(rdd)\n",
        "\n",
        "# read all the users name:\n",
        "jsonDF.show()"
      ],
      "execution_count": 32,
      "outputs": [
        {
          "output_type": "stream",
          "name": "stdout",
          "text": [
            "+--------------+----------+-------------------+----------------------+----------------+--------------------+--------+---------+-----------+-------+-------+-------------------+-------+----------+---------+------+---------------+--------------+------------------------+\n",
            "|     age_group|case_month|case_onset_interval|case_positive_specimen|county_fips_code|      current_status|death_yn|ethnicity|exposure_yn|hosp_yn| icu_yn|            process|   race|res_county|res_state|   sex|state_fips_code|symptom_status|underlying_conditions_yn|\n",
            "+--------------+----------+-------------------+----------------------+----------------+--------------------+--------+---------+-----------+-------+-------+-------------------+-------+----------+---------+------+---------------+--------------+------------------------+\n",
            "|            NA|   2020-06|               null|                   0.0|           39013|Laboratory-confir...|      NA|       NA|    Missing|Missing|Missing|            Missing|     NA|   BELMONT|       OH|    NA|             39|       Missing|                     Yes|\n",
            "|  0 - 17 years|   2020-09|               null|                  null|           39053|Laboratory-confir...|      No|       NA|    Missing|Missing|Missing|            Missing|     NA|    GALLIA|       OH|    NA|             39|       Missing|                    null|\n",
            "|18 to 49 years|   2020-11|               null|                   0.0|           42047|Laboratory-confir...| Unknown|       NA|    Missing|     No|Unknown|            Missing|     NA|       ELK|       PA|    NA|             42|       Unknown|                    null|\n",
            "|       Missing|   2021-02|               null|                  null|           01123|       Probable Case| Missing|  Missing|    Missing|Missing|Missing|            Missing|Missing|TALLAPOOSA|       AL|Female|             01|       Missing|                    null|\n",
            "|  0 - 17 years|   2020-12|                0.0|                  null|           19027|       Probable Case| Missing|       NA|    Missing|Missing|Missing|            Missing|     NA|   CARROLL|       IA|Female|             19|   Symptomatic|                    null|\n",
            "|  0 - 17 years|   2020-12|               null|                  null|           08039|Laboratory-confir...| Missing|       NA|    Missing|Missing|Missing|            Missing|Missing|    ELBERT|       CO|Female|             08|       Missing|                    null|\n",
            "|  0 - 17 years|   2020-07|                0.0|                  null|           45053|Laboratory-confir...|      No|       NA|    Missing|     No|Missing|            Missing|     NA|    JASPER|       SC|Female|             45|   Symptomatic|                    null|\n",
            "|  0 - 17 years|   2021-05|                0.0|                   1.0|           39081|       Probable Case|      No|       NA|        Yes|     No|     No|Clinical evaluation|     NA| JEFFERSON|       OH|Female|             39|   Symptomatic|                      No|\n",
            "|  0 - 17 years|   2020-11|               null|                  null|           26091|Laboratory-confir...|      NA|       NA|    Missing|     No|Missing|            Missing|     NA|   LENAWEE|       MI|Female|             26|       Missing|                    null|\n",
            "|  0 - 17 years|   2020-10|                0.0|                  null|           17163|       Probable Case| Missing|  Missing|    Missing|Missing|Missing|            Missing|Missing| ST. CLAIR|       IL|Female|             17|       Missing|                    null|\n",
            "|  0 - 17 years|   2021-04|                0.0|                  null|           17177|       Probable Case| Missing|       NA|    Missing|     No|Missing|            Missing|     NA|STEPHENSON|       IL|Female|             17|       Missing|                    null|\n",
            "|  0 - 17 years|   2020-11|               null|                  null|           39167|Laboratory-confir...|      NA|       NA|    Missing|Missing|Missing|            Missing|     NA|WASHINGTON|       OH|Female|             39|       Missing|                    null|\n",
            "|18 to 49 years|   2020-09|                0.0|                   0.0|           53003|Laboratory-confir...| Missing|       NA|    Missing|     No|Missing|            Missing|     NA|    ASOTIN|       WA|Female|             53|   Symptomatic|                    null|\n",
            "|18 to 49 years|   2020-10|                0.0|                  null|           39011|       Probable Case| Unknown|       NA|    Unknown|     No|Missing|Clinical evaluation|     NA|  AUGLAIZE|       OH|Female|             39|   Symptomatic|                    null|\n",
            "|18 to 49 years|   2020-11|                0.0|                   0.0|           39039|Laboratory-confir...|      No|       NA|    Unknown|     No|     No|Clinical evaluation|     NA|  DEFIANCE|       OH|Female|             39|   Symptomatic|                     Yes|\n",
            "|18 to 49 years|   2020-11|                0.0|                  null|           26047|Laboratory-confir...|      NA|       NA|    Missing|     No|Missing|            Missing|     NA|     EMMET|       MI|Female|             26|   Symptomatic|                    null|\n",
            "|18 to 49 years|   2020-11|                0.0|                  null|           13143|Laboratory-confir...| Missing|  Missing|    Missing|Missing|Missing|            Missing|Unknown|  HARALSON|       GA|Female|             13|   Symptomatic|                    null|\n",
            "|18 to 49 years|   2021-02|                0.0|                  null|           39131|Laboratory-confir...|      NA|       NA|        Yes|     No|     No|Clinical evaluation|     NA|      PIKE|       OH|Female|             39|   Symptomatic|                     Yes|\n",
            "|18 to 49 years|   2020-08|               null|                   0.0|           18147|Laboratory-confir...|      No|       NA|    Missing|Missing|Missing|            Missing|     NA|   SPENCER|       IN|Female|             18|       Missing|                    null|\n",
            "|18 to 49 years|   2020-10|                0.0|                  null|           13257|Laboratory-confir...| Missing|       NA|    Missing|Missing|Missing|            Missing|     NA|  STEPHENS|       GA|Female|             13|   Symptomatic|                    null|\n",
            "+--------------+----------+-------------------+----------------------+----------------+--------------------+--------+---------+-----------+-------+-------+-------------------+-------+----------+---------+------+---------------+--------------+------------------------+\n",
            "only showing top 20 rows\n",
            "\n"
          ]
        }
      ]
    },
    {
      "cell_type": "code",
      "metadata": {
        "colab": {
          "base_uri": "https://localhost:8080/"
        },
        "id": "zCN40TOlA4Sp",
        "outputId": "9437f45f-691c-49d0-85ac-888db15110e1"
      },
      "source": [
        "jsonDF"
      ],
      "execution_count": 24,
      "outputs": [
        {
          "output_type": "execute_result",
          "data": {
            "text/plain": [
              "DataFrame[age_group: string, case_month: string, case_onset_interval: string, case_positive_specimen: string, county_fips_code: string, current_status: string, death_yn: string, ethnicity: string, exposure_yn: string, hosp_yn: string, icu_yn: string, process: string, race: string, res_county: string, res_state: string, sex: string, state_fips_code: string, symptom_status: string, underlying_conditions_yn: string]"
            ]
          },
          "metadata": {},
          "execution_count": 24
        }
      ]
    },
    {
      "cell_type": "code",
      "metadata": {
        "id": "qsg3UiPr5Rox"
      },
      "source": [
        ""
      ],
      "execution_count": null,
      "outputs": []
    },
    {
      "cell_type": "code",
      "metadata": {
        "id": "4Y9ACYAX5RrB"
      },
      "source": [
        ""
      ],
      "execution_count": null,
      "outputs": []
    },
    {
      "cell_type": "code",
      "metadata": {
        "id": "hoPCpi544wz6"
      },
      "source": [
        ""
      ],
      "execution_count": null,
      "outputs": []
    },
    {
      "cell_type": "code",
      "metadata": {
        "id": "9N0QGUE0D54K"
      },
      "source": [
        "# Drop Columns: case month, state_fips, county fips, case positive specimen interval, case onset interval, process, exposure, current status, icu, death"
      ],
      "execution_count": null,
      "outputs": []
    },
    {
      "cell_type": "code",
      "metadata": {
        "id": "pu9wL-0I3A45"
      },
      "source": [
        "# Filter out hospital missing or unknown values"
      ],
      "execution_count": null,
      "outputs": []
    },
    {
      "cell_type": "code",
      "metadata": {
        "id": "LYJ1DyLO3A7g"
      },
      "source": [
        "# Use get_dummies() to create variables for text features: all remaining columns"
      ],
      "execution_count": null,
      "outputs": []
    },
    {
      "cell_type": "code",
      "metadata": {
        "id": "J451CaH-3A97"
      },
      "source": [
        "# Configure settings for RDS\n",
        "mode = \"append\"\n",
        "jdbc_url=\"jdbc:postgresql://'insert url'\"\n",
        "config = {\"user\":\"postgres\", \n",
        "          \"password\": \"\", \n",
        "          \"driver\":\"org.postgresql.Driver\"}"
      ],
      "execution_count": null,
      "outputs": []
    },
    {
      "cell_type": "code",
      "metadata": {
        "id": "0trC4Hqi3BAQ"
      },
      "source": [
        "# Write new df to table in RDS\n",
        "insertnewdfname.write.jdbc(url=jdbc_url, table='insert new table name', mode=mode, properties=config)"
      ],
      "execution_count": null,
      "outputs": []
    },
    {
      "cell_type": "code",
      "metadata": {
        "id": "8T0RDaX83BCS"
      },
      "source": [
        "#Start machine learning code here"
      ],
      "execution_count": null,
      "outputs": []
    },
    {
      "cell_type": "code",
      "metadata": {
        "id": "i98TSCAXD564"
      },
      "source": [
        ""
      ],
      "execution_count": null,
      "outputs": []
    },
    {
      "cell_type": "code",
      "metadata": {
        "id": "B8ra4W1NCWvf"
      },
      "source": [
        ""
      ],
      "execution_count": null,
      "outputs": []
    },
    {
      "cell_type": "code",
      "metadata": {
        "id": "1eojarKhCWyE"
      },
      "source": [
        ""
      ],
      "execution_count": null,
      "outputs": []
    }
  ]
}